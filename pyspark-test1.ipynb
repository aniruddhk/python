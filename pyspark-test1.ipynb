{
 "cells": [
  {
   "cell_type": "code",
   "execution_count": 1,
   "id": "d753655a",
   "metadata": {},
   "outputs": [
    {
     "name": "stdout",
     "output_type": "stream",
     "text": [
      "Collecting pyspark\n",
      "  Downloading pyspark-3.3.1.tar.gz (281.4 MB)\n",
      "\u001b[2K     \u001b[90m━━━━━━━━━━━━━━━━━━━━━━━━━━━━━━━━━━━━━━━\u001b[0m \u001b[32m281.4/281.4 MB\u001b[0m \u001b[31m2.6 MB/s\u001b[0m eta \u001b[36m0:00:00\u001b[0m00:01\u001b[0m00:01\u001b[0m\n",
      "\u001b[?25h  Preparing metadata (setup.py) ... \u001b[?25ldone\n",
      "\u001b[?25hCollecting py4j==0.10.9.5\n",
      "  Downloading py4j-0.10.9.5-py2.py3-none-any.whl (199 kB)\n",
      "\u001b[2K     \u001b[90m━━━━━━━━━━━━━━━━━━━━━━━━━━━━━━━━━━━━━━━\u001b[0m \u001b[32m199.7/199.7 kB\u001b[0m \u001b[31m4.9 MB/s\u001b[0m eta \u001b[36m0:00:00\u001b[0m00:01\u001b[0m\n",
      "\u001b[?25hInstalling collected packages: py4j, pyspark\n",
      "\u001b[33m  DEPRECATION: pyspark is being installed using the legacy 'setup.py install' method, because it does not have a 'pyproject.toml' and the 'wheel' package is not installed. pip 23.1 will enforce this behaviour change. A possible replacement is to enable the '--use-pep517' option. Discussion can be found at https://github.com/pypa/pip/issues/8559\u001b[0m\u001b[33m\n",
      "\u001b[0m  Running setup.py install for pyspark ... \u001b[?25ldone\n",
      "\u001b[?25hSuccessfully installed py4j-0.10.9.5 pyspark-3.3.1\n",
      "Note: you may need to restart the kernel to use updated packages.\n"
     ]
    }
   ],
   "source": [
    "pip install pyspark"
   ]
  },
  {
   "cell_type": "code",
   "execution_count": 1,
   "id": "d1abe29a",
   "metadata": {},
   "outputs": [],
   "source": [
    "from pyspark.sql import SparkSession"
   ]
  },
  {
   "cell_type": "code",
   "execution_count": 2,
   "id": "6400577f",
   "metadata": {},
   "outputs": [
    {
     "name": "stdout",
     "output_type": "stream",
     "text": [
      "24/07/18 21:56:48 WARN Utils: Your hostname, Aniruddhs-MacBook-Pro.local resolves to a loopback address: 127.0.0.1; using 192.168.0.20 instead (on interface en0)\n",
      "24/07/18 21:56:48 WARN Utils: Set SPARK_LOCAL_IP if you need to bind to another address\n"
     ]
    },
    {
     "name": "stderr",
     "output_type": "stream",
     "text": [
      "Setting default log level to \"WARN\".\n",
      "To adjust logging level use sc.setLogLevel(newLevel). For SparkR, use setLogLevel(newLevel).\n"
     ]
    },
    {
     "name": "stdout",
     "output_type": "stream",
     "text": [
      "24/07/18 21:56:49 WARN NativeCodeLoader: Unable to load native-hadoop library for your platform... using builtin-java classes where applicable\n"
     ]
    },
    {
     "ename": "Py4JJavaError",
     "evalue": "An error occurred while calling None.org.apache.spark.api.java.JavaSparkContext.\n: java.lang.ExceptionInInitializerError\n\tat org.apache.spark.unsafe.array.ByteArrayMethods.<clinit>(ByteArrayMethods.java:56)\n\tat org.apache.spark.memory.MemoryManager.defaultPageSizeBytes$lzycompute(MemoryManager.scala:264)\n\tat org.apache.spark.memory.MemoryManager.defaultPageSizeBytes(MemoryManager.scala:254)\n\tat org.apache.spark.memory.MemoryManager.$anonfun$pageSizeBytes$1(MemoryManager.scala:273)\n\tat scala.runtime.java8.JFunction0$mcJ$sp.apply(JFunction0$mcJ$sp.java:23)\n\tat scala.Option.getOrElse(Option.scala:189)\n\tat org.apache.spark.memory.MemoryManager.<init>(MemoryManager.scala:273)\n\tat org.apache.spark.memory.UnifiedMemoryManager.<init>(UnifiedMemoryManager.scala:58)\n\tat org.apache.spark.memory.UnifiedMemoryManager$.apply(UnifiedMemoryManager.scala:207)\n\tat org.apache.spark.SparkEnv$.create(SparkEnv.scala:320)\n\tat org.apache.spark.SparkEnv$.createDriverEnv(SparkEnv.scala:194)\n\tat org.apache.spark.SparkContext.createSparkEnv(SparkContext.scala:279)\n\tat org.apache.spark.SparkContext.<init>(SparkContext.scala:464)\n\tat org.apache.spark.api.java.JavaSparkContext.<init>(JavaSparkContext.scala:58)\n\tat java.base/jdk.internal.reflect.DirectConstructorHandleAccessor.newInstance(DirectConstructorHandleAccessor.java:62)\n\tat java.base/java.lang.reflect.Constructor.newInstanceWithCaller(Constructor.java:502)\n\tat java.base/java.lang.reflect.Constructor.newInstance(Constructor.java:486)\n\tat py4j.reflection.MethodInvoker.invoke(MethodInvoker.java:247)\n\tat py4j.reflection.ReflectionEngine.invoke(ReflectionEngine.java:357)\n\tat py4j.Gateway.invoke(Gateway.java:238)\n\tat py4j.commands.ConstructorCommand.invokeConstructor(ConstructorCommand.java:80)\n\tat py4j.commands.ConstructorCommand.execute(ConstructorCommand.java:69)\n\tat py4j.ClientServerConnection.waitForCommands(ClientServerConnection.java:182)\n\tat py4j.ClientServerConnection.run(ClientServerConnection.java:106)\n\tat java.base/java.lang.Thread.run(Thread.java:1570)\nCaused by: java.lang.IllegalStateException: java.lang.NoSuchMethodException: java.nio.DirectByteBuffer.<init>(long,int)\n\tat org.apache.spark.unsafe.Platform.<clinit>(Platform.java:113)\n\t... 25 more\nCaused by: java.lang.NoSuchMethodException: java.nio.DirectByteBuffer.<init>(long,int)\n\tat java.base/java.lang.Class.getConstructor0(Class.java:3784)\n\tat java.base/java.lang.Class.getDeclaredConstructor(Class.java:2955)\n\tat org.apache.spark.unsafe.Platform.<clinit>(Platform.java:71)\n\t... 25 more\n",
     "output_type": "error",
     "traceback": [
      "\u001b[0;31m---------------------------------------------------------------------------\u001b[0m",
      "\u001b[0;31mPy4JJavaError\u001b[0m                             Traceback (most recent call last)",
      "Cell \u001b[0;32mIn [2], line 1\u001b[0m\n\u001b[0;32m----> 1\u001b[0m spark  \u001b[38;5;241m=\u001b[39m \u001b[43mSparkSession\u001b[49m\u001b[38;5;241;43m.\u001b[39;49m\u001b[43mbuilder\u001b[49m\u001b[38;5;241;43m.\u001b[39;49m\u001b[43mappName\u001b[49m\u001b[43m(\u001b[49m\u001b[38;5;124;43m\"\u001b[39;49m\u001b[38;5;124;43mAKtest\u001b[39;49m\u001b[38;5;124;43m\"\u001b[39;49m\u001b[43m)\u001b[49m\u001b[38;5;241;43m.\u001b[39;49m\u001b[43mgetOrCreate\u001b[49m\u001b[43m(\u001b[49m\u001b[43m)\u001b[49m\n",
      "File \u001b[0;32m/Library/Frameworks/Python.framework/Versions/3.9/lib/python3.9/site-packages/pyspark/sql/session.py:269\u001b[0m, in \u001b[0;36mSparkSession.Builder.getOrCreate\u001b[0;34m(self)\u001b[0m\n\u001b[1;32m    267\u001b[0m     sparkConf\u001b[38;5;241m.\u001b[39mset(key, value)\n\u001b[1;32m    268\u001b[0m \u001b[38;5;66;03m# This SparkContext may be an existing one.\u001b[39;00m\n\u001b[0;32m--> 269\u001b[0m sc \u001b[38;5;241m=\u001b[39m \u001b[43mSparkContext\u001b[49m\u001b[38;5;241;43m.\u001b[39;49m\u001b[43mgetOrCreate\u001b[49m\u001b[43m(\u001b[49m\u001b[43msparkConf\u001b[49m\u001b[43m)\u001b[49m\n\u001b[1;32m    270\u001b[0m \u001b[38;5;66;03m# Do not update `SparkConf` for existing `SparkContext`, as it's shared\u001b[39;00m\n\u001b[1;32m    271\u001b[0m \u001b[38;5;66;03m# by all sessions.\u001b[39;00m\n\u001b[1;32m    272\u001b[0m session \u001b[38;5;241m=\u001b[39m SparkSession(sc, options\u001b[38;5;241m=\u001b[39m\u001b[38;5;28mself\u001b[39m\u001b[38;5;241m.\u001b[39m_options)\n",
      "File \u001b[0;32m/Library/Frameworks/Python.framework/Versions/3.9/lib/python3.9/site-packages/pyspark/context.py:483\u001b[0m, in \u001b[0;36mSparkContext.getOrCreate\u001b[0;34m(cls, conf)\u001b[0m\n\u001b[1;32m    481\u001b[0m \u001b[38;5;28;01mwith\u001b[39;00m SparkContext\u001b[38;5;241m.\u001b[39m_lock:\n\u001b[1;32m    482\u001b[0m     \u001b[38;5;28;01mif\u001b[39;00m SparkContext\u001b[38;5;241m.\u001b[39m_active_spark_context \u001b[38;5;129;01mis\u001b[39;00m \u001b[38;5;28;01mNone\u001b[39;00m:\n\u001b[0;32m--> 483\u001b[0m         \u001b[43mSparkContext\u001b[49m\u001b[43m(\u001b[49m\u001b[43mconf\u001b[49m\u001b[38;5;241;43m=\u001b[39;49m\u001b[43mconf\u001b[49m\u001b[43m \u001b[49m\u001b[38;5;129;43;01mor\u001b[39;49;00m\u001b[43m \u001b[49m\u001b[43mSparkConf\u001b[49m\u001b[43m(\u001b[49m\u001b[43m)\u001b[49m\u001b[43m)\u001b[49m\n\u001b[1;32m    484\u001b[0m     \u001b[38;5;28;01massert\u001b[39;00m SparkContext\u001b[38;5;241m.\u001b[39m_active_spark_context \u001b[38;5;129;01mis\u001b[39;00m \u001b[38;5;129;01mnot\u001b[39;00m \u001b[38;5;28;01mNone\u001b[39;00m\n\u001b[1;32m    485\u001b[0m     \u001b[38;5;28;01mreturn\u001b[39;00m SparkContext\u001b[38;5;241m.\u001b[39m_active_spark_context\n",
      "File \u001b[0;32m/Library/Frameworks/Python.framework/Versions/3.9/lib/python3.9/site-packages/pyspark/context.py:197\u001b[0m, in \u001b[0;36mSparkContext.__init__\u001b[0;34m(self, master, appName, sparkHome, pyFiles, environment, batchSize, serializer, conf, gateway, jsc, profiler_cls, udf_profiler_cls)\u001b[0m\n\u001b[1;32m    195\u001b[0m SparkContext\u001b[38;5;241m.\u001b[39m_ensure_initialized(\u001b[38;5;28mself\u001b[39m, gateway\u001b[38;5;241m=\u001b[39mgateway, conf\u001b[38;5;241m=\u001b[39mconf)\n\u001b[1;32m    196\u001b[0m \u001b[38;5;28;01mtry\u001b[39;00m:\n\u001b[0;32m--> 197\u001b[0m     \u001b[38;5;28;43mself\u001b[39;49m\u001b[38;5;241;43m.\u001b[39;49m\u001b[43m_do_init\u001b[49m\u001b[43m(\u001b[49m\n\u001b[1;32m    198\u001b[0m \u001b[43m        \u001b[49m\u001b[43mmaster\u001b[49m\u001b[43m,\u001b[49m\n\u001b[1;32m    199\u001b[0m \u001b[43m        \u001b[49m\u001b[43mappName\u001b[49m\u001b[43m,\u001b[49m\n\u001b[1;32m    200\u001b[0m \u001b[43m        \u001b[49m\u001b[43msparkHome\u001b[49m\u001b[43m,\u001b[49m\n\u001b[1;32m    201\u001b[0m \u001b[43m        \u001b[49m\u001b[43mpyFiles\u001b[49m\u001b[43m,\u001b[49m\n\u001b[1;32m    202\u001b[0m \u001b[43m        \u001b[49m\u001b[43menvironment\u001b[49m\u001b[43m,\u001b[49m\n\u001b[1;32m    203\u001b[0m \u001b[43m        \u001b[49m\u001b[43mbatchSize\u001b[49m\u001b[43m,\u001b[49m\n\u001b[1;32m    204\u001b[0m \u001b[43m        \u001b[49m\u001b[43mserializer\u001b[49m\u001b[43m,\u001b[49m\n\u001b[1;32m    205\u001b[0m \u001b[43m        \u001b[49m\u001b[43mconf\u001b[49m\u001b[43m,\u001b[49m\n\u001b[1;32m    206\u001b[0m \u001b[43m        \u001b[49m\u001b[43mjsc\u001b[49m\u001b[43m,\u001b[49m\n\u001b[1;32m    207\u001b[0m \u001b[43m        \u001b[49m\u001b[43mprofiler_cls\u001b[49m\u001b[43m,\u001b[49m\n\u001b[1;32m    208\u001b[0m \u001b[43m        \u001b[49m\u001b[43mudf_profiler_cls\u001b[49m\u001b[43m,\u001b[49m\n\u001b[1;32m    209\u001b[0m \u001b[43m    \u001b[49m\u001b[43m)\u001b[49m\n\u001b[1;32m    210\u001b[0m \u001b[38;5;28;01mexcept\u001b[39;00m \u001b[38;5;167;01mBaseException\u001b[39;00m:\n\u001b[1;32m    211\u001b[0m     \u001b[38;5;66;03m# If an error occurs, clean up in order to allow future SparkContext creation:\u001b[39;00m\n\u001b[1;32m    212\u001b[0m     \u001b[38;5;28mself\u001b[39m\u001b[38;5;241m.\u001b[39mstop()\n",
      "File \u001b[0;32m/Library/Frameworks/Python.framework/Versions/3.9/lib/python3.9/site-packages/pyspark/context.py:282\u001b[0m, in \u001b[0;36mSparkContext._do_init\u001b[0;34m(self, master, appName, sparkHome, pyFiles, environment, batchSize, serializer, conf, jsc, profiler_cls, udf_profiler_cls)\u001b[0m\n\u001b[1;32m    279\u001b[0m \u001b[38;5;28mself\u001b[39m\u001b[38;5;241m.\u001b[39menvironment[\u001b[38;5;124m\"\u001b[39m\u001b[38;5;124mPYTHONHASHSEED\u001b[39m\u001b[38;5;124m\"\u001b[39m] \u001b[38;5;241m=\u001b[39m os\u001b[38;5;241m.\u001b[39menviron\u001b[38;5;241m.\u001b[39mget(\u001b[38;5;124m\"\u001b[39m\u001b[38;5;124mPYTHONHASHSEED\u001b[39m\u001b[38;5;124m\"\u001b[39m, \u001b[38;5;124m\"\u001b[39m\u001b[38;5;124m0\u001b[39m\u001b[38;5;124m\"\u001b[39m)\n\u001b[1;32m    281\u001b[0m \u001b[38;5;66;03m# Create the Java SparkContext through Py4J\u001b[39;00m\n\u001b[0;32m--> 282\u001b[0m \u001b[38;5;28mself\u001b[39m\u001b[38;5;241m.\u001b[39m_jsc \u001b[38;5;241m=\u001b[39m jsc \u001b[38;5;129;01mor\u001b[39;00m \u001b[38;5;28;43mself\u001b[39;49m\u001b[38;5;241;43m.\u001b[39;49m\u001b[43m_initialize_context\u001b[49m\u001b[43m(\u001b[49m\u001b[38;5;28;43mself\u001b[39;49m\u001b[38;5;241;43m.\u001b[39;49m\u001b[43m_conf\u001b[49m\u001b[38;5;241;43m.\u001b[39;49m\u001b[43m_jconf\u001b[49m\u001b[43m)\u001b[49m\n\u001b[1;32m    283\u001b[0m \u001b[38;5;66;03m# Reset the SparkConf to the one actually used by the SparkContext in JVM.\u001b[39;00m\n\u001b[1;32m    284\u001b[0m \u001b[38;5;28mself\u001b[39m\u001b[38;5;241m.\u001b[39m_conf \u001b[38;5;241m=\u001b[39m SparkConf(_jconf\u001b[38;5;241m=\u001b[39m\u001b[38;5;28mself\u001b[39m\u001b[38;5;241m.\u001b[39m_jsc\u001b[38;5;241m.\u001b[39msc()\u001b[38;5;241m.\u001b[39mconf())\n",
      "File \u001b[0;32m/Library/Frameworks/Python.framework/Versions/3.9/lib/python3.9/site-packages/pyspark/context.py:402\u001b[0m, in \u001b[0;36mSparkContext._initialize_context\u001b[0;34m(self, jconf)\u001b[0m\n\u001b[1;32m    398\u001b[0m \u001b[38;5;124;03m\"\"\"\u001b[39;00m\n\u001b[1;32m    399\u001b[0m \u001b[38;5;124;03mInitialize SparkContext in function to allow subclass specific initialization\u001b[39;00m\n\u001b[1;32m    400\u001b[0m \u001b[38;5;124;03m\"\"\"\u001b[39;00m\n\u001b[1;32m    401\u001b[0m \u001b[38;5;28;01massert\u001b[39;00m \u001b[38;5;28mself\u001b[39m\u001b[38;5;241m.\u001b[39m_jvm \u001b[38;5;129;01mis\u001b[39;00m \u001b[38;5;129;01mnot\u001b[39;00m \u001b[38;5;28;01mNone\u001b[39;00m\n\u001b[0;32m--> 402\u001b[0m \u001b[38;5;28;01mreturn\u001b[39;00m \u001b[38;5;28;43mself\u001b[39;49m\u001b[38;5;241;43m.\u001b[39;49m\u001b[43m_jvm\u001b[49m\u001b[38;5;241;43m.\u001b[39;49m\u001b[43mJavaSparkContext\u001b[49m\u001b[43m(\u001b[49m\u001b[43mjconf\u001b[49m\u001b[43m)\u001b[49m\n",
      "File \u001b[0;32m/Library/Frameworks/Python.framework/Versions/3.9/lib/python3.9/site-packages/py4j/java_gateway.py:1585\u001b[0m, in \u001b[0;36mJavaClass.__call__\u001b[0;34m(self, *args)\u001b[0m\n\u001b[1;32m   1579\u001b[0m command \u001b[38;5;241m=\u001b[39m proto\u001b[38;5;241m.\u001b[39mCONSTRUCTOR_COMMAND_NAME \u001b[38;5;241m+\u001b[39m\\\n\u001b[1;32m   1580\u001b[0m     \u001b[38;5;28mself\u001b[39m\u001b[38;5;241m.\u001b[39m_command_header \u001b[38;5;241m+\u001b[39m\\\n\u001b[1;32m   1581\u001b[0m     args_command \u001b[38;5;241m+\u001b[39m\\\n\u001b[1;32m   1582\u001b[0m     proto\u001b[38;5;241m.\u001b[39mEND_COMMAND_PART\n\u001b[1;32m   1584\u001b[0m answer \u001b[38;5;241m=\u001b[39m \u001b[38;5;28mself\u001b[39m\u001b[38;5;241m.\u001b[39m_gateway_client\u001b[38;5;241m.\u001b[39msend_command(command)\n\u001b[0;32m-> 1585\u001b[0m return_value \u001b[38;5;241m=\u001b[39m \u001b[43mget_return_value\u001b[49m\u001b[43m(\u001b[49m\n\u001b[1;32m   1586\u001b[0m \u001b[43m    \u001b[49m\u001b[43manswer\u001b[49m\u001b[43m,\u001b[49m\u001b[43m \u001b[49m\u001b[38;5;28;43mself\u001b[39;49m\u001b[38;5;241;43m.\u001b[39;49m\u001b[43m_gateway_client\u001b[49m\u001b[43m,\u001b[49m\u001b[43m \u001b[49m\u001b[38;5;28;43;01mNone\u001b[39;49;00m\u001b[43m,\u001b[49m\u001b[43m \u001b[49m\u001b[38;5;28;43mself\u001b[39;49m\u001b[38;5;241;43m.\u001b[39;49m\u001b[43m_fqn\u001b[49m\u001b[43m)\u001b[49m\n\u001b[1;32m   1588\u001b[0m \u001b[38;5;28;01mfor\u001b[39;00m temp_arg \u001b[38;5;129;01min\u001b[39;00m temp_args:\n\u001b[1;32m   1589\u001b[0m     temp_arg\u001b[38;5;241m.\u001b[39m_detach()\n",
      "File \u001b[0;32m/Library/Frameworks/Python.framework/Versions/3.9/lib/python3.9/site-packages/py4j/protocol.py:326\u001b[0m, in \u001b[0;36mget_return_value\u001b[0;34m(answer, gateway_client, target_id, name)\u001b[0m\n\u001b[1;32m    324\u001b[0m value \u001b[38;5;241m=\u001b[39m OUTPUT_CONVERTER[\u001b[38;5;28mtype\u001b[39m](answer[\u001b[38;5;241m2\u001b[39m:], gateway_client)\n\u001b[1;32m    325\u001b[0m \u001b[38;5;28;01mif\u001b[39;00m answer[\u001b[38;5;241m1\u001b[39m] \u001b[38;5;241m==\u001b[39m REFERENCE_TYPE:\n\u001b[0;32m--> 326\u001b[0m     \u001b[38;5;28;01mraise\u001b[39;00m Py4JJavaError(\n\u001b[1;32m    327\u001b[0m         \u001b[38;5;124m\"\u001b[39m\u001b[38;5;124mAn error occurred while calling \u001b[39m\u001b[38;5;132;01m{0}\u001b[39;00m\u001b[38;5;132;01m{1}\u001b[39;00m\u001b[38;5;132;01m{2}\u001b[39;00m\u001b[38;5;124m.\u001b[39m\u001b[38;5;130;01m\\n\u001b[39;00m\u001b[38;5;124m\"\u001b[39m\u001b[38;5;241m.\u001b[39m\n\u001b[1;32m    328\u001b[0m         \u001b[38;5;28mformat\u001b[39m(target_id, \u001b[38;5;124m\"\u001b[39m\u001b[38;5;124m.\u001b[39m\u001b[38;5;124m\"\u001b[39m, name), value)\n\u001b[1;32m    329\u001b[0m \u001b[38;5;28;01melse\u001b[39;00m:\n\u001b[1;32m    330\u001b[0m     \u001b[38;5;28;01mraise\u001b[39;00m Py4JError(\n\u001b[1;32m    331\u001b[0m         \u001b[38;5;124m\"\u001b[39m\u001b[38;5;124mAn error occurred while calling \u001b[39m\u001b[38;5;132;01m{0}\u001b[39;00m\u001b[38;5;132;01m{1}\u001b[39;00m\u001b[38;5;132;01m{2}\u001b[39;00m\u001b[38;5;124m. Trace:\u001b[39m\u001b[38;5;130;01m\\n\u001b[39;00m\u001b[38;5;132;01m{3}\u001b[39;00m\u001b[38;5;130;01m\\n\u001b[39;00m\u001b[38;5;124m\"\u001b[39m\u001b[38;5;241m.\u001b[39m\n\u001b[1;32m    332\u001b[0m         \u001b[38;5;28mformat\u001b[39m(target_id, \u001b[38;5;124m\"\u001b[39m\u001b[38;5;124m.\u001b[39m\u001b[38;5;124m\"\u001b[39m, name, value))\n",
      "\u001b[0;31mPy4JJavaError\u001b[0m: An error occurred while calling None.org.apache.spark.api.java.JavaSparkContext.\n: java.lang.ExceptionInInitializerError\n\tat org.apache.spark.unsafe.array.ByteArrayMethods.<clinit>(ByteArrayMethods.java:56)\n\tat org.apache.spark.memory.MemoryManager.defaultPageSizeBytes$lzycompute(MemoryManager.scala:264)\n\tat org.apache.spark.memory.MemoryManager.defaultPageSizeBytes(MemoryManager.scala:254)\n\tat org.apache.spark.memory.MemoryManager.$anonfun$pageSizeBytes$1(MemoryManager.scala:273)\n\tat scala.runtime.java8.JFunction0$mcJ$sp.apply(JFunction0$mcJ$sp.java:23)\n\tat scala.Option.getOrElse(Option.scala:189)\n\tat org.apache.spark.memory.MemoryManager.<init>(MemoryManager.scala:273)\n\tat org.apache.spark.memory.UnifiedMemoryManager.<init>(UnifiedMemoryManager.scala:58)\n\tat org.apache.spark.memory.UnifiedMemoryManager$.apply(UnifiedMemoryManager.scala:207)\n\tat org.apache.spark.SparkEnv$.create(SparkEnv.scala:320)\n\tat org.apache.spark.SparkEnv$.createDriverEnv(SparkEnv.scala:194)\n\tat org.apache.spark.SparkContext.createSparkEnv(SparkContext.scala:279)\n\tat org.apache.spark.SparkContext.<init>(SparkContext.scala:464)\n\tat org.apache.spark.api.java.JavaSparkContext.<init>(JavaSparkContext.scala:58)\n\tat java.base/jdk.internal.reflect.DirectConstructorHandleAccessor.newInstance(DirectConstructorHandleAccessor.java:62)\n\tat java.base/java.lang.reflect.Constructor.newInstanceWithCaller(Constructor.java:502)\n\tat java.base/java.lang.reflect.Constructor.newInstance(Constructor.java:486)\n\tat py4j.reflection.MethodInvoker.invoke(MethodInvoker.java:247)\n\tat py4j.reflection.ReflectionEngine.invoke(ReflectionEngine.java:357)\n\tat py4j.Gateway.invoke(Gateway.java:238)\n\tat py4j.commands.ConstructorCommand.invokeConstructor(ConstructorCommand.java:80)\n\tat py4j.commands.ConstructorCommand.execute(ConstructorCommand.java:69)\n\tat py4j.ClientServerConnection.waitForCommands(ClientServerConnection.java:182)\n\tat py4j.ClientServerConnection.run(ClientServerConnection.java:106)\n\tat java.base/java.lang.Thread.run(Thread.java:1570)\nCaused by: java.lang.IllegalStateException: java.lang.NoSuchMethodException: java.nio.DirectByteBuffer.<init>(long,int)\n\tat org.apache.spark.unsafe.Platform.<clinit>(Platform.java:113)\n\t... 25 more\nCaused by: java.lang.NoSuchMethodException: java.nio.DirectByteBuffer.<init>(long,int)\n\tat java.base/java.lang.Class.getConstructor0(Class.java:3784)\n\tat java.base/java.lang.Class.getDeclaredConstructor(Class.java:2955)\n\tat org.apache.spark.unsafe.Platform.<clinit>(Platform.java:71)\n\t... 25 more\n"
     ]
    }
   ],
   "source": [
    "spark  = SparkSession.builder.appName(\"AKtest\").getOrCreate()"
   ]
  },
  {
   "cell_type": "code",
   "execution_count": null,
   "id": "d25e7023",
   "metadata": {},
   "outputs": [],
   "source": [
    "spark"
   ]
  },
  {
   "cell_type": "code",
   "execution_count": 14,
   "id": "9f35b712",
   "metadata": {},
   "outputs": [
    {
     "name": "stderr",
     "output_type": "stream",
     "text": [
      "                                                                                \r"
     ]
    }
   ],
   "source": [
    "df = spark.read.option('header','true').option('inferSchema','true').csv('survey_results_public.csv')"
   ]
  },
  {
   "cell_type": "code",
   "execution_count": 18,
   "id": "36319f63",
   "metadata": {},
   "outputs": [
    {
     "name": "stdout",
     "output_type": "stream",
     "text": [
      "+----------+--------------------+--------------------+--------------------+--------------------+--------------------+--------------------+--------------------+--------------------+---------+------------+--------------------+--------------------+--------------------+--------------------+--------------------+--------------------+---------+--------+----------------------+----------------------+----------------------+----------------------+----------------------+----------------------+----------------------+----------------------+----------------------+----------------------+-----------------------+-----------------------+----------------------------+----------------------------+---------------------+--------------------+--------------------+--------------------+---------------------+-------------------------+------------------------------+------------------------------+-----------------------------+-----------------------------+----------------+--------------------+--------------------+--------------------+--------------------+---------------+------------------+--------------------+--------------------+--------------------+--------------------+--------------------+--------------------+-------+--------------------+-------+--------------------+--------------------+--------------------+--------------------+--------------------+--------------------+--------------------+----------------+----------------+----------------+--------------------+--------------------+--------------+--------------------+-----------+-----------+-----------+--------------------+--------------------+-------------------+\n",
      "|ResponseId|          MainBranch|          Employment|          RemoteWork|    CodingActivities|             EdLevel|           LearnCode|     LearnCodeOnline|LearnCodeCoursesCert|YearsCode|YearsCodePro|             DevType|             OrgSize|   PurchaseInfluence|          BuyNewTool|             Country|            Currency|CompTotal|CompFreq|LanguageHaveWorkedWith|LanguageWantToWorkWith|DatabaseHaveWorkedWith|DatabaseWantToWorkWith|PlatformHaveWorkedWith|PlatformWantToWorkWith|WebframeHaveWorkedWith|WebframeWantToWorkWith|MiscTechHaveWorkedWith|MiscTechWantToWorkWith|ToolsTechHaveWorkedWith|ToolsTechWantToWorkWith|NEWCollabToolsHaveWorkedWith|NEWCollabToolsWantToWorkWith|OpSysProfessional use|   OpSysPersonal use|VersionControlSystem|       VCInteraction|VCHostingPersonal use|VCHostingProfessional use|OfficeStackAsyncHaveWorkedWith|OfficeStackAsyncWantToWorkWith|OfficeStackSyncHaveWorkedWith|OfficeStackSyncWantToWorkWith|      Blockchain|          NEWSOSites|         SOVisitFreq|           SOAccount|          SOPartFreq|         SOComm|               Age|              Gender|               Trans|           Sexuality|           Ethnicity|       Accessibility|        MentalHealth|TBranch|              ICorPM|WorkExp|         Knowledge_1|         Knowledge_2|         Knowledge_3|         Knowledge_4|         Knowledge_5|         Knowledge_6|         Knowledge_7|     Frequency_1|     Frequency_2|     Frequency_3|       TimeSearching|       TimeAnswering|    Onboarding|    ProfessionalTech|TrueFalse_1|TrueFalse_2|TrueFalse_3|        SurveyLength|          SurveyEase|ConvertedCompYearly|\n",
      "+----------+--------------------+--------------------+--------------------+--------------------+--------------------+--------------------+--------------------+--------------------+---------+------------+--------------------+--------------------+--------------------+--------------------+--------------------+--------------------+---------+--------+----------------------+----------------------+----------------------+----------------------+----------------------+----------------------+----------------------+----------------------+----------------------+----------------------+-----------------------+-----------------------+----------------------------+----------------------------+---------------------+--------------------+--------------------+--------------------+---------------------+-------------------------+------------------------------+------------------------------+-----------------------------+-----------------------------+----------------+--------------------+--------------------+--------------------+--------------------+---------------+------------------+--------------------+--------------------+--------------------+--------------------+--------------------+--------------------+-------+--------------------+-------+--------------------+--------------------+--------------------+--------------------+--------------------+--------------------+--------------------+----------------+----------------+----------------+--------------------+--------------------+--------------+--------------------+-----------+-----------+-----------+--------------------+--------------------+-------------------+\n",
      "|         1|       None of these|                  NA|                  NA|                  NA|                  NA|                  NA|                  NA|                  NA|       NA|          NA|                  NA|                  NA|                  NA|                  NA|                  NA|                  NA|       NA|      NA|                    NA|                    NA|                    NA|                    NA|                    NA|                    NA|                    NA|                    NA|                    NA|                    NA|                     NA|                     NA|                          NA|                          NA|                   NA|                  NA|                  NA|                  NA|                 null|                     null|                            NA|                            NA|                           NA|                           NA|              NA|                  NA|                  NA|                  NA|                  NA|             NA|                NA|                  NA|                  NA|                  NA|                  NA|                  NA|                  NA|     NA|                  NA|     NA|                  NA|                  NA|                  NA|                  NA|                  NA|                  NA|                  NA|              NA|              NA|              NA|                  NA|                  NA|            NA|                  NA|         NA|         NA|         NA|                  NA|                  NA|                 NA|\n",
      "|         2|I am a developer ...| Employed, full-time|        Fully remote|Hobby;Contribute ...|                  NA|                  NA|                  NA|                  NA|       NA|          NA|                  NA|                  NA|                  NA|                  NA|              Canada|CAD\\tCanadian dollar|       NA|      NA|  JavaScript;TypeSc...|       Rust;TypeScript|                    NA|                    NA|                    NA|                    NA|                    NA|                    NA|                    NA|                    NA|                     NA|                     NA|                          NA|                          NA|                macOS|Windows Subsystem...|                 Git|                  NA|                 null|                     null|                            NA|                            NA|                           NA|                           NA|Very unfavorable|Collectives on St...|Daily or almost d...|                 Yes|Daily or almost d...|       Not sure|                NA|                  NA|                  NA|                  NA|                  NA|                  NA|                  NA|     No|                  NA|     NA|                  NA|                  NA|                  NA|                  NA|                  NA|                  NA|                  NA|              NA|              NA|              NA|                  NA|                  NA|            NA|                  NA|         NA|         NA|         NA|            Too long|           Difficult|                 NA|\n",
      "|         3|I am not primaril...| Employed, full-time|Hybrid (some remo...|               Hobby|Master’s degree (...|Books / Physical ...|Technical documen...|                  NA|       14|           5|Data scientist or...|  20 to 99 employees|I have some influ...|                  NA|United Kingdom of...| GBP\\tPound sterling|    32000|  Yearly|  C#;C++;HTML/CSS;J...|  C#;C++;HTML/CSS;J...|  Microsoft SQL Server|  Microsoft SQL Server|                    NA|                    NA|            Angular.js|    Angular;Angular.js|                Pandas|                  .NET|                     NA|                     NA|        Notepad++;Visual ...|        Notepad++;Visual ...|              Windows|             Windows|                 Git|         Code editor|                 null|                     null|                            NA|                            NA|              Microsoft Teams|              Microsoft Teams|Very unfavorable|Collectives on St...|Multiple times pe...|                 Yes|Multiple times pe...|        Neutral|   25-34 years old|                 Man|                  No|            Bisexual|               White|   None of the above|I have a mood or ...|     No|                  NA|     NA|                  NA|                  NA|                  NA|                  NA|                  NA|                  NA|                  NA|              NA|              NA|              NA|                  NA|                  NA|            NA|                  NA|         NA|         NA|         NA|Appropriate in le...|Neither easy nor ...|              40205|\n",
      "|         4|I am a developer ...| Employed, full-time|        Fully remote|I don’t code outs...|Bachelor’s degree...|Books / Physical ...|                  NA|                  NA|       20|          17|Developer, full-s...|100 to 499 employees|I have some influ...|Other (please spe...|              Israel|ILS\\tIsraeli new ...|    60000| Monthly|  C#;JavaScript;SQL...|     C#;SQL;TypeScript|  Microsoft SQL Server|  Microsoft SQL Server|                    NA|                    NA|  ASP.NET;ASP.NET C...|  ASP.NET;ASP.NET C...|                  .NET|                  .NET|                     NA|                     NA|        Notepad++;Visual ...|        Notepad++;Visual ...|              Windows|             Windows|                 Git|Code editor;Comma...|                 null|                     null|          Jira Work Managem...|          Jira Work Managem...|                   Slack;Zoom|                   Slack;Zoom|Very unfavorable|Collectives on St...|Daily or almost d...|                 Yes|A few times per week|Yes, definitely|   35-44 years old|                 Man|                  No|Straight / Hetero...|               White|   None of the above|   None of the above|     No|                  NA|     NA|                  NA|                  NA|                  NA|                  NA|                  NA|                  NA|                  NA|              NA|              NA|              NA|                  NA|                  NA|            NA|                  NA|         NA|         NA|         NA|Appropriate in le...|                Easy|             215232|\n",
      "|         5|I am a developer ...| Employed, full-time|Hybrid (some remo...|               Hobby|Bachelor’s degree...|Other online reso...|Technical documen...|                  NA|        8|           3|Developer, front-...|  20 to 99 employees|I have some influ...|Start a free tria...|United States of ...|USD\\tUnited State...|       NA|      NA|  C#;HTML/CSS;JavaS...|  C#;Elixir;F#;Go;J...|  Cloud Firestore;E...|  Cloud Firestore;E...|  Firebase;Microsof...|  Firebase;Microsof...|  Angular;ASP.NET;A...|  Angular;ASP.NET C...|                  .NET|     .NET;Apache Kafka|                    npm|      Docker;Kubernetes|        Notepad++;Visual ...|        Rider;Visual Stud...|              Windows|       macOS;Windows|Git;Other (please...|         Code editor|                 null|                     null|                            NA|                            NA|         Microsoft Teams;Zoom|                           NA|     Unfavorable|Collectives on St...|Multiple times pe...|                 Yes|Daily or almost d...|Yes, definitely|   25-34 years old|                  NA|                  NA|                  NA|                  NA|                  NA|                  NA|     No|                  NA|     NA|                  NA|                  NA|                  NA|                  NA|                  NA|                  NA|                  NA|              NA|              NA|              NA|                  NA|                  NA|            NA|                  NA|         NA|         NA|         NA|            Too long|                Easy|                 NA|\n",
      "|         6|I am not primaril...|  Student, full-time|                  NA|                  NA|Master’s degree (...|Books / Physical ...|                  NA|                  NA|       15|          NA|                  NA|                  NA|                  NA|Other (please spe...|             Germany|                  NA|       NA|      NA|               C++;Lua|                   Lua|                    NA|                    NA|                    NA|                    NA|                    NA|                    NA|                    NA|                    NA|               Homebrew|               Homebrew|        Visual Studio Cod...|          Visual Studio Code|    Linux-based;macOS|               macOS|                 Git|Command-line;Vers...|                 null|                     null|                    Confluence|                            NA|         Rocketchat;Slack;...|         Rocketchat;Slack;...|Very unfavorable|Stack Overflow;St...|Multiple times pe...|                 Yes|Multiple times pe...|Yes, definitely|   25-34 years old|Or, in your own w...|Or, in your own w...|Prefer to self-de...|Or, in your own w...|Or, in your own w...|Or, in your own w...|     NA|                  NA|     NA|                  NA|                  NA|                  NA|                  NA|                  NA|                  NA|                  NA|              NA|              NA|              NA|                  NA|                  NA|            NA|                  NA|         NA|         NA|         NA|Appropriate in le...|                Easy|                 NA|\n",
      "|         7|I code primarily ...|  Student, part-time|                  NA|                  NA|Secondary school ...|Other online reso...|Stack Overflow;Vi...|                  NA|        3|          NA|                  NA|                  NA|                  NA|Start a free tria...|               India|                  NA|       NA|      NA|  C++;HTML/CSS;Java...|  C;C#;C++;Elixir;G...|  Cloud Firestore;M...|  MySQL;Oracle;Post...|                    NA|                    NA|  Angular;Next.js;N...|  Django;Flask;Gats...|                    NA|                    NA|           Homebrew;npm|                    npm|        Atom;IntelliJ;Not...|        Visual Studio Cod...|                macOS|               macOS|                 Git|Code editor;Comma...|                 null|                     null|                            NA|                            NA|         Google Chat;Micro...|         Google Chat;Slack...|       Favorable|      Stack Overflow|Multiple times pe...|                 Yes|Daily or almost d...|Yes, definitely|Under 18 years old|                 Man|                  No|                  NA|              Indian|   None of the above|   None of the above|     NA|                  NA|     NA|                  NA|                  NA|                  NA|                  NA|                  NA|                  NA|                  NA|              NA|              NA|              NA|                  NA|                  NA|            NA|                  NA|         NA|         NA|         NA|Appropriate in le...|                Easy|                 NA|\n",
      "|         8|I am a developer ...|Not employed, but...|                  NA|                  NA|Some college/univ...|Online Courses or...|                  NA|      Coursera;Udemy|        1|          NA|Developer, full-s...|                  NA|                  NA|  Start a free trial|               India|                  NA|       NA|      NA|  C;C++;HTML/CSS;Ja...|  APL;Bash/Shell;Go...|         MongoDB;MySQL|      Neo4j;PostgreSQL|  AWS;Google Cloud;...|  DigitalOcean;Fire...|        jQuery;Node.js|  Angular;Angular.j...|                    NA|                    NA|                    npm|          Unity 3D;Yarn|        Atom;CLion;Eclips...|        Android Studio;IP...|    Linux-based;macOS|             Windows|                 Git|        Command-line|                 null|                     null|                            NA|                            NA|         Google Chat;Micro...|                           NA|  Very favorable|Collectives on St...|A few times per week|                 Yes|I have never part...|Yes, definitely|   18-24 years old|                 Man|                  No|Straight / Hetero...|              Indian|   None of the above|   None of the above|     NA|                  NA|     NA|                  NA|                  NA|                  NA|                  NA|                  NA|                  NA|                  NA|              NA|              NA|              NA|                  NA|                  NA|            NA|                  NA|         NA|         NA|         NA|Appropriate in le...|                Easy|                 NA|\n",
      "|         9|I am a developer ...| Employed, full-time|Hybrid (some remo...|I don’t code outs...|Master’s degree (...|On the job traini...|                  NA|                  NA|        6|           6| Developer, back-end|        I don’t know|I have little or ...|                  NA|         Netherlands|   EUR European Euro|    46000|  Yearly|                    NA|                    NA|                    NA|                    NA|                    NA|                    NA|                    NA|                    NA|                    NA|                    NA|                     NA|                     NA|             Emacs;Notepad++|             Emacs;Notepad++|              Windows|             Windows|                 Git|Command-line;Dedi...|                 null|                     null|          Confluence;Jira W...|          Confluence;Jira W...|              Microsoft Teams|              Microsoft Teams|Very unfavorable|Stack Overflow fo...|A few times per m...|                 Yes|Less than once pe...| No, not at all|   25-34 years old|               Woman|                  No|Prefer to self-de...|            European|Or, in your own w...|Or, in your own w...|    Yes|Independent contr...|      6|               Agree|            Disagree|               Agree|               Agree|               Agree|               Agree|            Disagree|3-5 times a week|3-5 times a week|           Never| 15-30 minutes a day|Over 120 minutes ...| Somewhat long|Innersource initi...|        Yes|        Yes|        Yes|Appropriate in le...|                Easy|              49056|\n",
      "|        10|I am a developer ...|Independent contr...|        Fully remote|Hobby;Contribute ...|Some college/univ...|Books / Physical ...|Technical documen...|                  NA|       37|          30|Developer, deskto...|Just me - I am a ...|I have a great de...|Start a free tria...|             Croatia|  HRK\\tCroatian kuna|       NA|      NA|     Delphi;Java;Swift|     Delphi;Java;Swift|                    NA|                    NA|  DigitalOcean;Fire...|  DigitalOcean;Fire...|                    NA|                    NA|                    NA|                    NA|                     NA|                     NA|        Android Studio;RA...|        Android Studio;RA...|              Windows|             Windows|                 Git|Version control h...|                 null|                     null|                            NA|                            NA|            Google Chat;Slack|            Google Chat;Slack|Very unfavorable|Collectives on St...|Multiple times pe...|                 Yes|Multiple times pe...|Yes, definitely|   45-54 years old|               Woman|                  No|Straight / Hetero...|      White;European|   None of the above|   None of the above|     NA|                  NA|     NA|                  NA|                  NA|                  NA|                  NA|                  NA|                  NA|                  NA|              NA|              NA|              NA|                  NA|                  NA|            NA|                  NA|         NA|         NA|         NA|Appropriate in le...|                Easy|                 NA|\n",
      "|        11|I am a developer ...| Employed, full-time|Hybrid (some remo...|I don’t code outs...|Bachelor’s degree...|Books / Physical ...|Technical documen...|                  NA|        5|           2|Developer, full-s...|100 to 499 employees|I have little or ...|Start a free tria...|United Kingdom of...| GBP\\tPound sterling|    48000|  Yearly|  Bash/Shell;C#;HTM...|      C#;Go;JavaScript|  Microsoft SQL Server|  Microsoft SQL Server|   AWS;Microsoft Azure|       Microsoft Azure|  ASP.NET;ASP.NET C...|  ASP.NET;ASP.NET C...|                  .NET|                    NA|   Docker;npm;Terraform|       Docker;Terraform|        Rider;Visual Stud...|        Rider;Visual Stud...| Windows;Windows S...|         Linux-based|                 Git|Code editor;Comma...|                 null|                     null|                    Confluence|                            NA|         Google Chat;Micro...|            Google Chat;Slack|     Unfavorable|Stack Overflow;St...|A few times per m...|                 Yes|Less than once pe...| No, not really|   18-24 years old|                 Man|                  No|Straight / Hetero...|            European|   None of the above|   None of the above|     No|                  NA|     NA|                  NA|                  NA|                  NA|                  NA|                  NA|                  NA|                  NA|              NA|              NA|              NA|                  NA|                  NA|            NA|                  NA|         NA|         NA|         NA|Appropriate in le...|                Easy|              60307|\n",
      "|        12|I am not primaril...|Employed, full-ti...|        Fully remote|Hobby;Contribute ...|Bachelor’s degree...|Other online reso...|Technical documen...|                  NA|       12|          10| Engineering manager|  20 to 99 employees|I have some influ...|Start a free tria...|United States of ...|USD\\tUnited State...|   194400|  Yearly|  C#;HTML/CSS;JavaS...|  C++;Go;HTML/CSS;J...|  Couchbase;CouchDB...|  Elasticsearch;Mon...|   AWS;Microsoft Azure|  AWS;DigitalOcean;...|  ASP.NET;ASP.NET C...|  ASP.NET Core ;Nod...|  .NET;Keras;NumPy;...|  Keras;NumPy;Panda...|   Docker;Homebrew;K...|   Docker;Homebrew;K...|        IPython/Jupyter;N...|        IPython/Jupyter;N...| Linux-based;macOS...|   Linux-based;macOS|                 Git|Code editor;Dedic...|                 null|                     null|          Confluence;Jira W...|                 Notion;Trello|         Cisco Webex Teams...|                        Slack|     Unfavorable|Stack Overflow;St...|Daily or almost d...|                 Yes|A few times per m...|  Yes, somewhat|   35-44 years old|                 Man|                  No|Straight / Hetero...|               White|   None of the above|I have a mood or ...|    Yes|      People manager|     14|      Strongly agree|               Agree|            Disagree|               Agree|               Agree|               Agree|               Agree|10+ times a week|10+ times a week|3-5 times a week| 30-60 minutes a day|60-120 minutes a day|    Just right|Innersource initi...|        Yes|        Yes|         No|           Too short|                Easy|             194400|\n",
      "|        13|I am a developer ...| Employed, full-time|Hybrid (some remo...|               Hobby|Bachelor’s degree...|School (i.e., Uni...|                  NA|                  NA|       12|           5|Developer, full-s...|    2 to 9 employees|I have a great de...|Visit developer c...|United States of ...|USD\\tUnited State...|    65000|  Yearly|  C;HTML/CSS;Rust;S...|  Haskell;HTML/CSS;...|            PostgreSQL|   Elasticsearch;Redis|                   AWS|                   AWS|              React.js|              React.js|         Torch/PyTorch|         Torch/PyTorch|                 Docker|                 Docker|           Vim;Visual Studio|           Vim;Visual Studio|                macOS|         Linux-based|                 Git|Code editor;Comma...|                 null|                     null|          Jira Work Managem...|          Jira Work Managem...|         Microsoft Teams;S...|         Microsoft Teams;S...|       Favorable|Stack Overflow;St...|Daily or almost d...|Not sure/can't re...|                  NA|        Neutral|   25-34 years old|                 Man|                  No|Straight / Hetero...|               White|   None of the above|   None of the above|    Yes|Independent contr...|      5|Neither agree nor...|            Disagree|      Strongly agree|      Strongly agree|      Strongly agree|               Agree|            Disagree|           Never|           Never|           Never| 30-60 minutes a day|Less than 15 minu...|Somewhat short|DevOps function;M...|        Yes|         No|        Yes|Appropriate in le...|                Easy|              65000|\n",
      "|        14|I am a developer ...| Employed, part-time|        Fully remote|               Hobby|Bachelor’s degree...|Books / Physical ...|                  NA|                  NA|       22|          15|Developer, front-...|  20 to 99 employees|I have some influ...|Start a free tria...|           Australia|AUD\\tAustralian d...|       NA|      NA|  Elixir;Erlang;HTM...|  Elixir;Erlang;HTM...|   DynamoDB;PostgreSQL|            PostgreSQL|            AWS;Heroku|                    NA|  jQuery;Next.js;No...|  Phoenix;React.js;...|                    NA|                    NA|   Docker;Homebrew;n...|            Docker;Yarn|          Visual Studio Code|          Visual Studio Code|                macOS|               macOS|                 Git|        Command-line|                 null|                     null|          Airtable;Confluen...|                        Notion|         Microsoft Teams;S...|                   Slack;Zoom|Very unfavorable|Stack Overflow;St...|Multiple times pe...|                 Yes|Daily or almost d...|Yes, definitely|   35-44 years old|               Woman|                  No|Straight / Hetero...|               White|   None of the above|I have a mood or ...|    Yes|Independent contr...|     15|               Agree|               Agree|Neither agree nor...|Neither agree nor...|Neither agree nor...|               Agree|               Agree|1-2 times a week|10+ times a week|1-2 times a week|60-120 minutes a day| 30-60 minutes a day|    Very short|Continuous integr...|         No|         No|         No|           Too short|                Easy|                 NA|\n",
      "|        15|I am a developer ...|Employed, full-ti...|        Fully remote|Hobby;Freelance/c...|Master’s degree (...|Other online reso...|Written Tutorials...|                  NA|       11|           5|Developer, full-s...|5,000 to 9,999 em...|I have little or ...|Start a free tria...|United States of ...|USD\\tUnited State...|   110000|  Yearly|  HTML/CSS;JavaScri...|  HTML/CSS;JavaScri...|  Elasticsearch;Mon...|  Elasticsearch;Mon...|  AWS;DigitalOcean;...|                   AWS|  Django;Flask;jQue...|  Django;FastAPI;Re...|  Apache Kafka;Apac...|                Pandas|        Docker;npm;Yarn|        Docker;npm;Yarn|        IPython/Jupyter;N...|          Visual Studio Code|                macOS|               macOS|                 Git|Code editor;Comma...|                 null|                     null|          Asana;Jira Work M...|          Asana;Jira Work M...|         Microsoft Teams;S...|                   Slack;Zoom|     Indifferent|Stack Overflow;St...|Daily or almost d...|                 Yes|Less than once pe...|  Yes, somewhat|   25-34 years old|                 Man|                  No|Straight / Hetero...|               White|   None of the above|   None of the above|    Yes|Independent contr...|      5|               Agree|Neither agree nor...|Neither agree nor...|Neither agree nor...|Neither agree nor...|Neither agree nor...|Neither agree nor...|1-2 times a week|3-5 times a week|1-2 times a week| 30-60 minutes a day| 30-60 minutes a day| Somewhat long|DevOps function;C...|         No|        Yes|        Yes|Appropriate in le...|                Easy|             110000|\n",
      "|        16|I am a developer ...|Independent contr...|        Fully remote|Hobby;Contribute ...|Bachelor’s degree...|Books / Physical ...|                  NA|                  NA|        4|           4|Developer, full-s...|Just me - I am a ...|I have a great de...|  Start a free trial|  Russian Federation|  RUB\\tRussian ruble|       NA|  Weekly|  Bash/Shell;HTML/C...|  Bash/Shell;HTML/C...|  Cloud Firestore;M...|  Cloud Firestore;M...|  AWS;Firebase;Goog...|  AWS;Firebase;Goog...|  Express;jQuery;No...|  Express;Node.js;V...|                    NA|                    NA|                    npm|                    npm|        Notepad++;Visual ...|          Visual Studio Code|              Windows|             Windows|                 Git|Code editor;Comma...|                 null|                     null|                        Trello|                        Trello|                           NA|                           NA|     Unfavorable|Stack Overflow;St...|Multiple times pe...|                 Yes|Multiple times pe...|Yes, definitely|   25-34 years old|                 Man|                  No|Straight / Hetero...|                  NA|   None of the above|                  NA|     NA|                  NA|     NA|                  NA|                  NA|                  NA|                  NA|                  NA|                  NA|                  NA|              NA|              NA|              NA|                  NA|                  NA|            NA|                  NA|         NA|         NA|         NA|                  NA|Neither easy nor ...|                 NA|\n",
      "|        17|I am a developer ...| Employed, full-time|Hybrid (some remo...|               Hobby|Bachelor’s degree...|Books / Physical ...|Technical documen...|    Udemy;Codecademy|        7|           4|Developer, full-s...|    2 to 9 employees|I have some influ...|Start a free tria...|      Czech Republic|   CZK\\tCzech koruna|    37000| Monthly|  C#;Java;PHP;Python;R|  JavaScript;Kotlin...|   Elasticsearch;MySQL|  MariaDB;MongoDB;M...|   Google Cloud;VMware|                   AWS|  Angular;Laravel;N...|  Angular;Next.js;N...|  Electron;React Na...|              Electron|             Docker;npm|             Docker;npm|        IntelliJ;Notepad+...|          IntelliJ;Notepad++|              Windows|             Windows|                 Git|Command-line;Dedi...|                 null|                     null|          Jira Work Managem...|          Jira Work Management|         Microsoft Teams;S...|         Microsoft Teams;S...|     Unfavorable|Stack Overflow;St...|Daily or almost d...|                 Yes|A few times per m...|        Neutral|   25-34 years old|                 Man|                  No|            Bisexual|            European|   None of the above|I have a mood or ...|     No|                  NA|     NA|                  NA|                  NA|                  NA|                  NA|                  NA|                  NA|                  NA|              NA|              NA|              NA|                  NA|                  NA|            NA|                  NA|         NA|         NA|         NA|Appropriate in le...|Neither easy nor ...|              19224|\n",
      "|        18|I am a developer ...| Employed, full-time|        Fully remote|               Hobby|Master’s degree (...|Other online reso...|Technical documen...|Coursera;Pluralsight|       13|          10|      Engineer, data|1,000 to 4,999 em...|I have some influ...|Start a free tria...|             Austria|   EUR European Euro|   190000|  Yearly|            Python;SQL|            Python;SQL|  Cassandra;PostgreSQL|  Cassandra;PostgreSQL|      AWS;Google Cloud|      AWS;Google Cloud|                    NA|                    NA|                    NA|                    NA|   Docker;Homebrew;K...|   Docker;Homebrew;K...|          Visual Studio Code|        PyCharm;Visual St...|                macOS|Windows;Windows S...|                 Git|        Command-line|                 null|                     null|                            NA|                            NA|                   Slack;Zoom|                   Slack;Zoom|     Indifferent|Stack Overflow fo...|Daily or almost d...|                 Yes|Less than once pe...|Yes, definitely|   25-34 years old|               Woman|                  No|Straight / Hetero...|            European|   None of the above|   None of the above|     No|                  NA|     NA|                  NA|                  NA|                  NA|                  NA|                  NA|                  NA|                  NA|              NA|              NA|              NA|                  NA|                  NA|            NA|                  NA|         NA|         NA|         NA|Appropriate in le...|                Easy|             202623|\n",
      "|        19|I am a developer ...| Employed, full-time|Hybrid (some remo...|               Hobby|Secondary school ...|Books / Physical ...|                  NA|                  NA|       36|          22|Developer, back-e...|100 to 499 employees|I have little or ...|Start a free tria...|             Austria|   EUR European Euro|     4000| Monthly|     C#;PowerShell;SQL|  C#;F#;PowerShell;SQL|  Microsoft SQL Server|  Microsoft SQL Server|                    NA|                    NA|                    NA|                    NA|                  .NET|                  .NET|                     NA|                     NA|        Visual Studio;Vis...|        Visual Studio;Vis...|              Windows|             Windows|       Mercurial;SVN|Code editor;Comma...|                 null|                     null|                            NA|                            NA|         Microsoft Teams;Zoom|              Microsoft Teams|          Unsure|Stack Overflow;St...|Multiple times pe...|                 Yes|Daily or almost d...|Yes, definitely|   45-54 years old|                 Man|                  No|Straight / Hetero...|      White;European|   None of the above|   None of the above|     No|                  NA|     NA|                  NA|                  NA|                  NA|                  NA|                  NA|                  NA|                  NA|              NA|              NA|              NA|                  NA|                  NA|            NA|                  NA|         NA|         NA|         NA|Appropriate in le...|                Easy|              51192|\n",
      "|        20|I am learning to ...|  Student, full-time|                  NA|                  NA|Some college/univ...|Books / Physical ...|                  NA|                  NA|        2|          NA|                  NA|                  NA|                  NA|Visit developer c...|              Serbia|                  NA|       NA|      NA|  C++;HTML/CSS;Java...|   HTML/CSS;Python;SQL|                 MySQL|                 MySQL|                    NA|                    NA|                    NA|                    NA|  Keras;NumPy;Panda...|  Keras;NumPy;Panda...|                     NA|                     NA|        IntelliJ;Visual S...|          Visual Studio Code|  Linux-based;Windows| Linux-based;Windows|                 Git|Code editor;Comma...|                 null|                     null|                            NA|                            NA|                           NA|                           NA|     Indifferent|      Stack Overflow|Daily or almost d...|                  No|                  NA| No, not really|   18-24 years old|                 Man|                  No|                  NA|               White|                  NA|                  NA|     NA|                  NA|     NA|                  NA|                  NA|                  NA|                  NA|                  NA|                  NA|                  NA|              NA|              NA|              NA|                  NA|                  NA|            NA|                  NA|         NA|         NA|         NA|Appropriate in le...|                Easy|                 NA|\n",
      "+----------+--------------------+--------------------+--------------------+--------------------+--------------------+--------------------+--------------------+--------------------+---------+------------+--------------------+--------------------+--------------------+--------------------+--------------------+--------------------+---------+--------+----------------------+----------------------+----------------------+----------------------+----------------------+----------------------+----------------------+----------------------+----------------------+----------------------+-----------------------+-----------------------+----------------------------+----------------------------+---------------------+--------------------+--------------------+--------------------+---------------------+-------------------------+------------------------------+------------------------------+-----------------------------+-----------------------------+----------------+--------------------+--------------------+--------------------+--------------------+---------------+------------------+--------------------+--------------------+--------------------+--------------------+--------------------+--------------------+-------+--------------------+-------+--------------------+--------------------+--------------------+--------------------+--------------------+--------------------+--------------------+----------------+----------------+----------------+--------------------+--------------------+--------------+--------------------+-----------+-----------+-----------+--------------------+--------------------+-------------------+\n",
      "only showing top 20 rows\n",
      "\n"
     ]
    }
   ],
   "source": [
    "df.show()"
   ]
  },
  {
   "cell_type": "code",
   "execution_count": 19,
   "id": "7819a95d",
   "metadata": {},
   "outputs": [
    {
     "name": "stdout",
     "output_type": "stream",
     "text": [
      "root\n",
      " |-- ResponseId: integer (nullable = true)\n",
      " |-- MainBranch: string (nullable = true)\n",
      " |-- Employment: string (nullable = true)\n",
      " |-- RemoteWork: string (nullable = true)\n",
      " |-- CodingActivities: string (nullable = true)\n",
      " |-- EdLevel: string (nullable = true)\n",
      " |-- LearnCode: string (nullable = true)\n",
      " |-- LearnCodeOnline: string (nullable = true)\n",
      " |-- LearnCodeCoursesCert: string (nullable = true)\n",
      " |-- YearsCode: string (nullable = true)\n",
      " |-- YearsCodePro: string (nullable = true)\n",
      " |-- DevType: string (nullable = true)\n",
      " |-- OrgSize: string (nullable = true)\n",
      " |-- PurchaseInfluence: string (nullable = true)\n",
      " |-- BuyNewTool: string (nullable = true)\n",
      " |-- Country: string (nullable = true)\n",
      " |-- Currency: string (nullable = true)\n",
      " |-- CompTotal: string (nullable = true)\n",
      " |-- CompFreq: string (nullable = true)\n",
      " |-- LanguageHaveWorkedWith: string (nullable = true)\n",
      " |-- LanguageWantToWorkWith: string (nullable = true)\n",
      " |-- DatabaseHaveWorkedWith: string (nullable = true)\n",
      " |-- DatabaseWantToWorkWith: string (nullable = true)\n",
      " |-- PlatformHaveWorkedWith: string (nullable = true)\n",
      " |-- PlatformWantToWorkWith: string (nullable = true)\n",
      " |-- WebframeHaveWorkedWith: string (nullable = true)\n",
      " |-- WebframeWantToWorkWith: string (nullable = true)\n",
      " |-- MiscTechHaveWorkedWith: string (nullable = true)\n",
      " |-- MiscTechWantToWorkWith: string (nullable = true)\n",
      " |-- ToolsTechHaveWorkedWith: string (nullable = true)\n",
      " |-- ToolsTechWantToWorkWith: string (nullable = true)\n",
      " |-- NEWCollabToolsHaveWorkedWith: string (nullable = true)\n",
      " |-- NEWCollabToolsWantToWorkWith: string (nullable = true)\n",
      " |-- OpSysProfessional use: string (nullable = true)\n",
      " |-- OpSysPersonal use: string (nullable = true)\n",
      " |-- VersionControlSystem: string (nullable = true)\n",
      " |-- VCInteraction: string (nullable = true)\n",
      " |-- VCHostingPersonal use: string (nullable = true)\n",
      " |-- VCHostingProfessional use: string (nullable = true)\n",
      " |-- OfficeStackAsyncHaveWorkedWith: string (nullable = true)\n",
      " |-- OfficeStackAsyncWantToWorkWith: string (nullable = true)\n",
      " |-- OfficeStackSyncHaveWorkedWith: string (nullable = true)\n",
      " |-- OfficeStackSyncWantToWorkWith: string (nullable = true)\n",
      " |-- Blockchain: string (nullable = true)\n",
      " |-- NEWSOSites: string (nullable = true)\n",
      " |-- SOVisitFreq: string (nullable = true)\n",
      " |-- SOAccount: string (nullable = true)\n",
      " |-- SOPartFreq: string (nullable = true)\n",
      " |-- SOComm: string (nullable = true)\n",
      " |-- Age: string (nullable = true)\n",
      " |-- Gender: string (nullable = true)\n",
      " |-- Trans: string (nullable = true)\n",
      " |-- Sexuality: string (nullable = true)\n",
      " |-- Ethnicity: string (nullable = true)\n",
      " |-- Accessibility: string (nullable = true)\n",
      " |-- MentalHealth: string (nullable = true)\n",
      " |-- TBranch: string (nullable = true)\n",
      " |-- ICorPM: string (nullable = true)\n",
      " |-- WorkExp: string (nullable = true)\n",
      " |-- Knowledge_1: string (nullable = true)\n",
      " |-- Knowledge_2: string (nullable = true)\n",
      " |-- Knowledge_3: string (nullable = true)\n",
      " |-- Knowledge_4: string (nullable = true)\n",
      " |-- Knowledge_5: string (nullable = true)\n",
      " |-- Knowledge_6: string (nullable = true)\n",
      " |-- Knowledge_7: string (nullable = true)\n",
      " |-- Frequency_1: string (nullable = true)\n",
      " |-- Frequency_2: string (nullable = true)\n",
      " |-- Frequency_3: string (nullable = true)\n",
      " |-- TimeSearching: string (nullable = true)\n",
      " |-- TimeAnswering: string (nullable = true)\n",
      " |-- Onboarding: string (nullable = true)\n",
      " |-- ProfessionalTech: string (nullable = true)\n",
      " |-- TrueFalse_1: string (nullable = true)\n",
      " |-- TrueFalse_2: string (nullable = true)\n",
      " |-- TrueFalse_3: string (nullable = true)\n",
      " |-- SurveyLength: string (nullable = true)\n",
      " |-- SurveyEase: string (nullable = true)\n",
      " |-- ConvertedCompYearly: string (nullable = true)\n",
      "\n"
     ]
    }
   ],
   "source": [
    "df.printSchema()"
   ]
  },
  {
   "cell_type": "code",
   "execution_count": 20,
   "id": "34f72c3e",
   "metadata": {},
   "outputs": [
    {
     "data": {
      "text/plain": [
       "['ResponseId',\n",
       " 'MainBranch',\n",
       " 'Employment',\n",
       " 'RemoteWork',\n",
       " 'CodingActivities',\n",
       " 'EdLevel',\n",
       " 'LearnCode',\n",
       " 'LearnCodeOnline',\n",
       " 'LearnCodeCoursesCert',\n",
       " 'YearsCode',\n",
       " 'YearsCodePro',\n",
       " 'DevType',\n",
       " 'OrgSize',\n",
       " 'PurchaseInfluence',\n",
       " 'BuyNewTool',\n",
       " 'Country',\n",
       " 'Currency',\n",
       " 'CompTotal',\n",
       " 'CompFreq',\n",
       " 'LanguageHaveWorkedWith',\n",
       " 'LanguageWantToWorkWith',\n",
       " 'DatabaseHaveWorkedWith',\n",
       " 'DatabaseWantToWorkWith',\n",
       " 'PlatformHaveWorkedWith',\n",
       " 'PlatformWantToWorkWith',\n",
       " 'WebframeHaveWorkedWith',\n",
       " 'WebframeWantToWorkWith',\n",
       " 'MiscTechHaveWorkedWith',\n",
       " 'MiscTechWantToWorkWith',\n",
       " 'ToolsTechHaveWorkedWith',\n",
       " 'ToolsTechWantToWorkWith',\n",
       " 'NEWCollabToolsHaveWorkedWith',\n",
       " 'NEWCollabToolsWantToWorkWith',\n",
       " 'OpSysProfessional use',\n",
       " 'OpSysPersonal use',\n",
       " 'VersionControlSystem',\n",
       " 'VCInteraction',\n",
       " 'VCHostingPersonal use',\n",
       " 'VCHostingProfessional use',\n",
       " 'OfficeStackAsyncHaveWorkedWith',\n",
       " 'OfficeStackAsyncWantToWorkWith',\n",
       " 'OfficeStackSyncHaveWorkedWith',\n",
       " 'OfficeStackSyncWantToWorkWith',\n",
       " 'Blockchain',\n",
       " 'NEWSOSites',\n",
       " 'SOVisitFreq',\n",
       " 'SOAccount',\n",
       " 'SOPartFreq',\n",
       " 'SOComm',\n",
       " 'Age',\n",
       " 'Gender',\n",
       " 'Trans',\n",
       " 'Sexuality',\n",
       " 'Ethnicity',\n",
       " 'Accessibility',\n",
       " 'MentalHealth',\n",
       " 'TBranch',\n",
       " 'ICorPM',\n",
       " 'WorkExp',\n",
       " 'Knowledge_1',\n",
       " 'Knowledge_2',\n",
       " 'Knowledge_3',\n",
       " 'Knowledge_4',\n",
       " 'Knowledge_5',\n",
       " 'Knowledge_6',\n",
       " 'Knowledge_7',\n",
       " 'Frequency_1',\n",
       " 'Frequency_2',\n",
       " 'Frequency_3',\n",
       " 'TimeSearching',\n",
       " 'TimeAnswering',\n",
       " 'Onboarding',\n",
       " 'ProfessionalTech',\n",
       " 'TrueFalse_1',\n",
       " 'TrueFalse_2',\n",
       " 'TrueFalse_3',\n",
       " 'SurveyLength',\n",
       " 'SurveyEase',\n",
       " 'ConvertedCompYearly']"
      ]
     },
     "execution_count": 20,
     "metadata": {},
     "output_type": "execute_result"
    }
   ],
   "source": [
    "df.columns"
   ]
  },
  {
   "cell_type": "code",
   "execution_count": 3,
   "id": "7b275687",
   "metadata": {},
   "outputs": [
    {
     "ename": "NameError",
     "evalue": "name 'df' is not defined",
     "output_type": "error",
     "traceback": [
      "\u001b[0;31m---------------------------------------------------------------------------\u001b[0m",
      "\u001b[0;31mNameError\u001b[0m                                 Traceback (most recent call last)",
      "Cell \u001b[0;32mIn [3], line 1\u001b[0m\n\u001b[0;32m----> 1\u001b[0m \u001b[43mdf\u001b[49m\u001b[38;5;241m.\u001b[39mdtypes\n",
      "\u001b[0;31mNameError\u001b[0m: name 'df' is not defined"
     ]
    }
   ],
   "source": [
    "df.dtypes"
   ]
  },
  {
   "cell_type": "code",
   "execution_count": 4,
   "id": "a976a030",
   "metadata": {},
   "outputs": [
    {
     "ename": "NameError",
     "evalue": "name 'df' is not defined",
     "output_type": "error",
     "traceback": [
      "\u001b[0;31m---------------------------------------------------------------------------\u001b[0m",
      "\u001b[0;31mNameError\u001b[0m                                 Traceback (most recent call last)",
      "Cell \u001b[0;32mIn [4], line 1\u001b[0m\n\u001b[0;32m----> 1\u001b[0m desc \u001b[38;5;241m=\u001b[39m \u001b[43mdf\u001b[49m\u001b[38;5;241m.\u001b[39mdescribe()\n",
      "\u001b[0;31mNameError\u001b[0m: name 'df' is not defined"
     ]
    }
   ],
   "source": [
    "desc = df.describe()"
   ]
  },
  {
   "cell_type": "code",
   "execution_count": 30,
   "id": "2374a12b",
   "metadata": {},
   "outputs": [
    {
     "data": {
      "text/plain": [
       "['summary',\n",
       " 'ResponseId',\n",
       " 'MainBranch',\n",
       " 'Employment',\n",
       " 'RemoteWork',\n",
       " 'CodingActivities',\n",
       " 'EdLevel',\n",
       " 'LearnCode',\n",
       " 'LearnCodeOnline',\n",
       " 'LearnCodeCoursesCert',\n",
       " 'YearsCode',\n",
       " 'YearsCodePro',\n",
       " 'DevType',\n",
       " 'OrgSize',\n",
       " 'PurchaseInfluence',\n",
       " 'BuyNewTool',\n",
       " 'Country',\n",
       " 'Currency',\n",
       " 'CompTotal',\n",
       " 'CompFreq',\n",
       " 'LanguageHaveWorkedWith',\n",
       " 'LanguageWantToWorkWith',\n",
       " 'DatabaseHaveWorkedWith',\n",
       " 'DatabaseWantToWorkWith',\n",
       " 'PlatformHaveWorkedWith',\n",
       " 'PlatformWantToWorkWith',\n",
       " 'WebframeHaveWorkedWith',\n",
       " 'WebframeWantToWorkWith',\n",
       " 'MiscTechHaveWorkedWith',\n",
       " 'MiscTechWantToWorkWith',\n",
       " 'ToolsTechHaveWorkedWith',\n",
       " 'ToolsTechWantToWorkWith',\n",
       " 'NEWCollabToolsHaveWorkedWith',\n",
       " 'NEWCollabToolsWantToWorkWith',\n",
       " 'OpSysProfessional use',\n",
       " 'OpSysPersonal use',\n",
       " 'VersionControlSystem',\n",
       " 'VCInteraction',\n",
       " 'VCHostingPersonal use',\n",
       " 'VCHostingProfessional use',\n",
       " 'OfficeStackAsyncHaveWorkedWith',\n",
       " 'OfficeStackAsyncWantToWorkWith',\n",
       " 'OfficeStackSyncHaveWorkedWith',\n",
       " 'OfficeStackSyncWantToWorkWith',\n",
       " 'Blockchain',\n",
       " 'NEWSOSites',\n",
       " 'SOVisitFreq',\n",
       " 'SOAccount',\n",
       " 'SOPartFreq',\n",
       " 'SOComm',\n",
       " 'Age',\n",
       " 'Gender',\n",
       " 'Trans',\n",
       " 'Sexuality',\n",
       " 'Ethnicity',\n",
       " 'Accessibility',\n",
       " 'MentalHealth',\n",
       " 'TBranch',\n",
       " 'ICorPM',\n",
       " 'WorkExp',\n",
       " 'Knowledge_1',\n",
       " 'Knowledge_2',\n",
       " 'Knowledge_3',\n",
       " 'Knowledge_4',\n",
       " 'Knowledge_5',\n",
       " 'Knowledge_6',\n",
       " 'Knowledge_7',\n",
       " 'Frequency_1',\n",
       " 'Frequency_2',\n",
       " 'Frequency_3',\n",
       " 'TimeSearching',\n",
       " 'TimeAnswering',\n",
       " 'Onboarding',\n",
       " 'ProfessionalTech',\n",
       " 'TrueFalse_1',\n",
       " 'TrueFalse_2',\n",
       " 'TrueFalse_3',\n",
       " 'SurveyLength',\n",
       " 'SurveyEase',\n",
       " 'ConvertedCompYearly']"
      ]
     },
     "execution_count": 30,
     "metadata": {},
     "output_type": "execute_result"
    }
   ],
   "source": [
    "desc.columns"
   ]
  },
  {
   "cell_type": "code",
   "execution_count": 34,
   "id": "8e68b17d",
   "metadata": {},
   "outputs": [],
   "source": [
    "df = df.withColumn(\"AKTEST\",df['SurveyEase'])"
   ]
  },
  {
   "cell_type": "code",
   "execution_count": 35,
   "id": "a7f0ef86",
   "metadata": {},
   "outputs": [
    {
     "name": "stdout",
     "output_type": "stream",
     "text": [
      "+--------------------+--------------------+\n",
      "|              AKTEST|          SurveyEase|\n",
      "+--------------------+--------------------+\n",
      "|                  NA|                  NA|\n",
      "|           Difficult|           Difficult|\n",
      "|Neither easy nor ...|Neither easy nor ...|\n",
      "|                Easy|                Easy|\n",
      "|                Easy|                Easy|\n",
      "|                Easy|                Easy|\n",
      "|                Easy|                Easy|\n",
      "|                Easy|                Easy|\n",
      "|                Easy|                Easy|\n",
      "|                Easy|                Easy|\n",
      "|                Easy|                Easy|\n",
      "|                Easy|                Easy|\n",
      "|                Easy|                Easy|\n",
      "|                Easy|                Easy|\n",
      "|                Easy|                Easy|\n",
      "|Neither easy nor ...|Neither easy nor ...|\n",
      "|Neither easy nor ...|Neither easy nor ...|\n",
      "|                Easy|                Easy|\n",
      "|                Easy|                Easy|\n",
      "|                Easy|                Easy|\n",
      "+--------------------+--------------------+\n",
      "only showing top 20 rows\n",
      "\n"
     ]
    }
   ],
   "source": [
    "df.select(['AKTEST','SurveyEase']).show()"
   ]
  },
  {
   "cell_type": "markdown",
   "id": "54bec822",
   "metadata": {},
   "source": [
    "## Missing values, Add/Delete Columns"
   ]
  },
  {
   "cell_type": "code",
   "execution_count": 37,
   "id": "7c0d8d55",
   "metadata": {},
   "outputs": [
    {
     "data": {
      "text/plain": [
       "DataFrame[ResponseId: int, MainBranch: string, Employment: string, RemoteWork: string, CodingActivities: string, EdLevel: string, LearnCode: string, LearnCodeOnline: string, LearnCodeCoursesCert: string, YearsCode: string, YearsCodePro: string, DevType: string, OrgSize: string, PurchaseInfluence: string, BuyNewTool: string, Country: string, Currency: string, CompTotal: string, CompFreq: string, LanguageHaveWorkedWith: string, LanguageWantToWorkWith: string, DatabaseHaveWorkedWith: string, DatabaseWantToWorkWith: string, PlatformHaveWorkedWith: string, PlatformWantToWorkWith: string, WebframeHaveWorkedWith: string, WebframeWantToWorkWith: string, MiscTechHaveWorkedWith: string, MiscTechWantToWorkWith: string, ToolsTechHaveWorkedWith: string, ToolsTechWantToWorkWith: string, NEWCollabToolsHaveWorkedWith: string, NEWCollabToolsWantToWorkWith: string, OpSysProfessional use: string, OpSysPersonal use: string, VersionControlSystem: string, VCInteraction: string, VCHostingPersonal use: string, VCHostingProfessional use: string, OfficeStackAsyncHaveWorkedWith: string, OfficeStackAsyncWantToWorkWith: string, OfficeStackSyncHaveWorkedWith: string, OfficeStackSyncWantToWorkWith: string, Blockchain: string, NEWSOSites: string, SOVisitFreq: string, SOAccount: string, SOPartFreq: string, SOComm: string, Age: string, Gender: string, Trans: string, Sexuality: string, Ethnicity: string, Accessibility: string, MentalHealth: string, TBranch: string, ICorPM: string, WorkExp: string, Knowledge_1: string, Knowledge_2: string, Knowledge_3: string, Knowledge_4: string, Knowledge_5: string, Knowledge_6: string, Knowledge_7: string, Frequency_1: string, Frequency_2: string, Frequency_3: string, TimeSearching: string, TimeAnswering: string, Onboarding: string, ProfessionalTech: string, TrueFalse_1: string, TrueFalse_2: string, TrueFalse_3: string, SurveyLength: string, SurveyEase: string, ConvertedCompYearly: string]"
      ]
     },
     "execution_count": 37,
     "metadata": {},
     "output_type": "execute_result"
    }
   ],
   "source": [
    "df.drop('AKTEST')"
   ]
  },
  {
   "cell_type": "code",
   "execution_count": 41,
   "id": "782e46b7",
   "metadata": {},
   "outputs": [],
   "source": [
    "df = df.withColumnRenamed('ConvertedCompYearly','ConvertedCompYearly1')"
   ]
  },
  {
   "cell_type": "code",
   "execution_count": 42,
   "id": "66a55271",
   "metadata": {},
   "outputs": [
    {
     "data": {
      "text/plain": [
       "['ResponseId',\n",
       " 'MainBranch',\n",
       " 'Employment',\n",
       " 'RemoteWork',\n",
       " 'CodingActivities',\n",
       " 'EdLevel',\n",
       " 'LearnCode',\n",
       " 'LearnCodeOnline',\n",
       " 'LearnCodeCoursesCert',\n",
       " 'YearsCode',\n",
       " 'YearsCodePro',\n",
       " 'DevType',\n",
       " 'OrgSize',\n",
       " 'PurchaseInfluence',\n",
       " 'BuyNewTool',\n",
       " 'Country',\n",
       " 'Currency',\n",
       " 'CompTotal',\n",
       " 'CompFreq',\n",
       " 'LanguageHaveWorkedWith',\n",
       " 'LanguageWantToWorkWith',\n",
       " 'DatabaseHaveWorkedWith',\n",
       " 'DatabaseWantToWorkWith',\n",
       " 'PlatformHaveWorkedWith',\n",
       " 'PlatformWantToWorkWith',\n",
       " 'WebframeHaveWorkedWith',\n",
       " 'WebframeWantToWorkWith',\n",
       " 'MiscTechHaveWorkedWith',\n",
       " 'MiscTechWantToWorkWith',\n",
       " 'ToolsTechHaveWorkedWith',\n",
       " 'ToolsTechWantToWorkWith',\n",
       " 'NEWCollabToolsHaveWorkedWith',\n",
       " 'NEWCollabToolsWantToWorkWith',\n",
       " 'OpSysProfessional use',\n",
       " 'OpSysPersonal use',\n",
       " 'VersionControlSystem',\n",
       " 'VCInteraction',\n",
       " 'VCHostingPersonal use',\n",
       " 'VCHostingProfessional use',\n",
       " 'OfficeStackAsyncHaveWorkedWith',\n",
       " 'OfficeStackAsyncWantToWorkWith',\n",
       " 'OfficeStackSyncHaveWorkedWith',\n",
       " 'OfficeStackSyncWantToWorkWith',\n",
       " 'Blockchain',\n",
       " 'NEWSOSites',\n",
       " 'SOVisitFreq',\n",
       " 'SOAccount',\n",
       " 'SOPartFreq',\n",
       " 'SOComm',\n",
       " 'Age',\n",
       " 'Gender',\n",
       " 'Trans',\n",
       " 'Sexuality',\n",
       " 'Ethnicity',\n",
       " 'Accessibility',\n",
       " 'MentalHealth',\n",
       " 'TBranch',\n",
       " 'ICorPM',\n",
       " 'WorkExp',\n",
       " 'Knowledge_1',\n",
       " 'Knowledge_2',\n",
       " 'Knowledge_3',\n",
       " 'Knowledge_4',\n",
       " 'Knowledge_5',\n",
       " 'Knowledge_6',\n",
       " 'Knowledge_7',\n",
       " 'Frequency_1',\n",
       " 'Frequency_2',\n",
       " 'Frequency_3',\n",
       " 'TimeSearching',\n",
       " 'TimeAnswering',\n",
       " 'Onboarding',\n",
       " 'ProfessionalTech',\n",
       " 'TrueFalse_1',\n",
       " 'TrueFalse_2',\n",
       " 'TrueFalse_3',\n",
       " 'SurveyLength',\n",
       " 'SurveyEase',\n",
       " 'ConvertedCompYearly1',\n",
       " 'AKTEST']"
      ]
     },
     "execution_count": 42,
     "metadata": {},
     "output_type": "execute_result"
    }
   ],
   "source": [
    "df.columns"
   ]
  },
  {
   "cell_type": "code",
   "execution_count": 43,
   "id": "04012c29",
   "metadata": {},
   "outputs": [],
   "source": [
    "df = df.drop('AKTEST')"
   ]
  },
  {
   "cell_type": "code",
   "execution_count": 44,
   "id": "188d92df",
   "metadata": {},
   "outputs": [
    {
     "data": {
      "text/plain": [
       "['ResponseId',\n",
       " 'MainBranch',\n",
       " 'Employment',\n",
       " 'RemoteWork',\n",
       " 'CodingActivities',\n",
       " 'EdLevel',\n",
       " 'LearnCode',\n",
       " 'LearnCodeOnline',\n",
       " 'LearnCodeCoursesCert',\n",
       " 'YearsCode',\n",
       " 'YearsCodePro',\n",
       " 'DevType',\n",
       " 'OrgSize',\n",
       " 'PurchaseInfluence',\n",
       " 'BuyNewTool',\n",
       " 'Country',\n",
       " 'Currency',\n",
       " 'CompTotal',\n",
       " 'CompFreq',\n",
       " 'LanguageHaveWorkedWith',\n",
       " 'LanguageWantToWorkWith',\n",
       " 'DatabaseHaveWorkedWith',\n",
       " 'DatabaseWantToWorkWith',\n",
       " 'PlatformHaveWorkedWith',\n",
       " 'PlatformWantToWorkWith',\n",
       " 'WebframeHaveWorkedWith',\n",
       " 'WebframeWantToWorkWith',\n",
       " 'MiscTechHaveWorkedWith',\n",
       " 'MiscTechWantToWorkWith',\n",
       " 'ToolsTechHaveWorkedWith',\n",
       " 'ToolsTechWantToWorkWith',\n",
       " 'NEWCollabToolsHaveWorkedWith',\n",
       " 'NEWCollabToolsWantToWorkWith',\n",
       " 'OpSysProfessional use',\n",
       " 'OpSysPersonal use',\n",
       " 'VersionControlSystem',\n",
       " 'VCInteraction',\n",
       " 'VCHostingPersonal use',\n",
       " 'VCHostingProfessional use',\n",
       " 'OfficeStackAsyncHaveWorkedWith',\n",
       " 'OfficeStackAsyncWantToWorkWith',\n",
       " 'OfficeStackSyncHaveWorkedWith',\n",
       " 'OfficeStackSyncWantToWorkWith',\n",
       " 'Blockchain',\n",
       " 'NEWSOSites',\n",
       " 'SOVisitFreq',\n",
       " 'SOAccount',\n",
       " 'SOPartFreq',\n",
       " 'SOComm',\n",
       " 'Age',\n",
       " 'Gender',\n",
       " 'Trans',\n",
       " 'Sexuality',\n",
       " 'Ethnicity',\n",
       " 'Accessibility',\n",
       " 'MentalHealth',\n",
       " 'TBranch',\n",
       " 'ICorPM',\n",
       " 'WorkExp',\n",
       " 'Knowledge_1',\n",
       " 'Knowledge_2',\n",
       " 'Knowledge_3',\n",
       " 'Knowledge_4',\n",
       " 'Knowledge_5',\n",
       " 'Knowledge_6',\n",
       " 'Knowledge_7',\n",
       " 'Frequency_1',\n",
       " 'Frequency_2',\n",
       " 'Frequency_3',\n",
       " 'TimeSearching',\n",
       " 'TimeAnswering',\n",
       " 'Onboarding',\n",
       " 'ProfessionalTech',\n",
       " 'TrueFalse_1',\n",
       " 'TrueFalse_2',\n",
       " 'TrueFalse_3',\n",
       " 'SurveyLength',\n",
       " 'SurveyEase',\n",
       " 'ConvertedCompYearly1']"
      ]
     },
     "execution_count": 44,
     "metadata": {},
     "output_type": "execute_result"
    }
   ],
   "source": [
    "df.columns"
   ]
  },
  {
   "cell_type": "code",
   "execution_count": 47,
   "id": "6405a007",
   "metadata": {},
   "outputs": [
    {
     "name": "stderr",
     "output_type": "stream",
     "text": [
      "\r",
      "[Stage 17:=======>                                                  (1 + 7) / 8]\r",
      "\r",
      "                                                                                \r"
     ]
    },
    {
     "data": {
      "text/plain": [
       "73268"
      ]
     },
     "execution_count": 47,
     "metadata": {},
     "output_type": "execute_result"
    }
   ],
   "source": [
    "df.count()"
   ]
  },
  {
   "cell_type": "code",
   "execution_count": 54,
   "id": "bdee248a",
   "metadata": {},
   "outputs": [
    {
     "data": {
      "text/plain": [
       "73268"
      ]
     },
     "execution_count": 54,
     "metadata": {},
     "output_type": "execute_result"
    }
   ],
   "source": [
    "df.na.drop(how='all').count()"
   ]
  },
  {
   "cell_type": "code",
   "execution_count": 60,
   "id": "cefa2596",
   "metadata": {},
   "outputs": [
    {
     "data": {
      "text/plain": [
       "73268"
      ]
     },
     "execution_count": 60,
     "metadata": {},
     "output_type": "execute_result"
    }
   ],
   "source": [
    "df.na.drop(how='any', subset=['MainBranch','SurveyLength']).count()"
   ]
  },
  {
   "cell_type": "code",
   "execution_count": 62,
   "id": "39782300",
   "metadata": {},
   "outputs": [
    {
     "name": "stdout",
     "output_type": "stream",
     "text": [
      "+----------+--------------------+--------------------+--------------------+--------------------+--------------------+--------------------+--------------------+--------------------+---------+------------+--------------------+--------------------+--------------------+--------------------+--------------------+--------------------+---------+--------+----------------------+----------------------+----------------------+----------------------+----------------------+----------------------+----------------------+----------------------+----------------------+----------------------+-----------------------+-----------------------+----------------------------+----------------------------+---------------------+--------------------+--------------------+--------------------+---------------------+-------------------------+------------------------------+------------------------------+-----------------------------+-----------------------------+----------------+--------------------+--------------------+--------------------+--------------------+---------------+------------------+--------------------+--------------------+--------------------+--------------------+--------------------+--------------------+-------+--------------------+-------+--------------------+--------------------+--------------------+--------------------+--------------------+--------------------+--------------------+----------------+----------------+----------------+--------------------+--------------------+--------------+--------------------+-----------+-----------+-----------+--------------------+--------------------+--------------------+\n",
      "|ResponseId|          MainBranch|          Employment|          RemoteWork|    CodingActivities|             EdLevel|           LearnCode|     LearnCodeOnline|LearnCodeCoursesCert|YearsCode|YearsCodePro|             DevType|             OrgSize|   PurchaseInfluence|          BuyNewTool|             Country|            Currency|CompTotal|CompFreq|LanguageHaveWorkedWith|LanguageWantToWorkWith|DatabaseHaveWorkedWith|DatabaseWantToWorkWith|PlatformHaveWorkedWith|PlatformWantToWorkWith|WebframeHaveWorkedWith|WebframeWantToWorkWith|MiscTechHaveWorkedWith|MiscTechWantToWorkWith|ToolsTechHaveWorkedWith|ToolsTechWantToWorkWith|NEWCollabToolsHaveWorkedWith|NEWCollabToolsWantToWorkWith|OpSysProfessional use|   OpSysPersonal use|VersionControlSystem|       VCInteraction|VCHostingPersonal use|VCHostingProfessional use|OfficeStackAsyncHaveWorkedWith|OfficeStackAsyncWantToWorkWith|OfficeStackSyncHaveWorkedWith|OfficeStackSyncWantToWorkWith|      Blockchain|          NEWSOSites|         SOVisitFreq|           SOAccount|          SOPartFreq|         SOComm|               Age|              Gender|               Trans|           Sexuality|           Ethnicity|       Accessibility|        MentalHealth|TBranch|              ICorPM|WorkExp|         Knowledge_1|         Knowledge_2|         Knowledge_3|         Knowledge_4|         Knowledge_5|         Knowledge_6|         Knowledge_7|     Frequency_1|     Frequency_2|     Frequency_3|       TimeSearching|       TimeAnswering|    Onboarding|    ProfessionalTech|TrueFalse_1|TrueFalse_2|TrueFalse_3|        SurveyLength|          SurveyEase|ConvertedCompYearly1|\n",
      "+----------+--------------------+--------------------+--------------------+--------------------+--------------------+--------------------+--------------------+--------------------+---------+------------+--------------------+--------------------+--------------------+--------------------+--------------------+--------------------+---------+--------+----------------------+----------------------+----------------------+----------------------+----------------------+----------------------+----------------------+----------------------+----------------------+----------------------+-----------------------+-----------------------+----------------------------+----------------------------+---------------------+--------------------+--------------------+--------------------+---------------------+-------------------------+------------------------------+------------------------------+-----------------------------+-----------------------------+----------------+--------------------+--------------------+--------------------+--------------------+---------------+------------------+--------------------+--------------------+--------------------+--------------------+--------------------+--------------------+-------+--------------------+-------+--------------------+--------------------+--------------------+--------------------+--------------------+--------------------+--------------------+----------------+----------------+----------------+--------------------+--------------------+--------------+--------------------+-----------+-----------+-----------+--------------------+--------------------+--------------------+\n",
      "|         1|       None of these|                  NA|                  NA|                  NA|                  NA|                  NA|                  NA|                  NA|       NA|          NA|                  NA|                  NA|                  NA|                  NA|                  NA|                  NA|       NA|      NA|                    NA|                    NA|                    NA|                    NA|                    NA|                    NA|                    NA|                    NA|                    NA|                    NA|                     NA|                     NA|                          NA|                          NA|                   NA|                  NA|                  NA|                  NA|             aniruddh|                 aniruddh|                            NA|                            NA|                           NA|                           NA|              NA|                  NA|                  NA|                  NA|                  NA|             NA|                NA|                  NA|                  NA|                  NA|                  NA|                  NA|                  NA|     NA|                  NA|     NA|                  NA|                  NA|                  NA|                  NA|                  NA|                  NA|                  NA|              NA|              NA|              NA|                  NA|                  NA|            NA|                  NA|         NA|         NA|         NA|                  NA|                  NA|                  NA|\n",
      "|         2|I am a developer ...| Employed, full-time|        Fully remote|Hobby;Contribute ...|                  NA|                  NA|                  NA|                  NA|       NA|          NA|                  NA|                  NA|                  NA|                  NA|              Canada|CAD\\tCanadian dollar|       NA|      NA|  JavaScript;TypeSc...|       Rust;TypeScript|                    NA|                    NA|                    NA|                    NA|                    NA|                    NA|                    NA|                    NA|                     NA|                     NA|                          NA|                          NA|                macOS|Windows Subsystem...|                 Git|                  NA|             aniruddh|                 aniruddh|                            NA|                            NA|                           NA|                           NA|Very unfavorable|Collectives on St...|Daily or almost d...|                 Yes|Daily or almost d...|       Not sure|                NA|                  NA|                  NA|                  NA|                  NA|                  NA|                  NA|     No|                  NA|     NA|                  NA|                  NA|                  NA|                  NA|                  NA|                  NA|                  NA|              NA|              NA|              NA|                  NA|                  NA|            NA|                  NA|         NA|         NA|         NA|            Too long|           Difficult|                  NA|\n",
      "|         3|I am not primaril...| Employed, full-time|Hybrid (some remo...|               Hobby|Master’s degree (...|Books / Physical ...|Technical documen...|                  NA|       14|           5|Data scientist or...|  20 to 99 employees|I have some influ...|                  NA|United Kingdom of...| GBP\\tPound sterling|    32000|  Yearly|  C#;C++;HTML/CSS;J...|  C#;C++;HTML/CSS;J...|  Microsoft SQL Server|  Microsoft SQL Server|                    NA|                    NA|            Angular.js|    Angular;Angular.js|                Pandas|                  .NET|                     NA|                     NA|        Notepad++;Visual ...|        Notepad++;Visual ...|              Windows|             Windows|                 Git|         Code editor|             aniruddh|                 aniruddh|                            NA|                            NA|              Microsoft Teams|              Microsoft Teams|Very unfavorable|Collectives on St...|Multiple times pe...|                 Yes|Multiple times pe...|        Neutral|   25-34 years old|                 Man|                  No|            Bisexual|               White|   None of the above|I have a mood or ...|     No|                  NA|     NA|                  NA|                  NA|                  NA|                  NA|                  NA|                  NA|                  NA|              NA|              NA|              NA|                  NA|                  NA|            NA|                  NA|         NA|         NA|         NA|Appropriate in le...|Neither easy nor ...|               40205|\n",
      "|         4|I am a developer ...| Employed, full-time|        Fully remote|I don’t code outs...|Bachelor’s degree...|Books / Physical ...|                  NA|                  NA|       20|          17|Developer, full-s...|100 to 499 employees|I have some influ...|Other (please spe...|              Israel|ILS\\tIsraeli new ...|    60000| Monthly|  C#;JavaScript;SQL...|     C#;SQL;TypeScript|  Microsoft SQL Server|  Microsoft SQL Server|                    NA|                    NA|  ASP.NET;ASP.NET C...|  ASP.NET;ASP.NET C...|                  .NET|                  .NET|                     NA|                     NA|        Notepad++;Visual ...|        Notepad++;Visual ...|              Windows|             Windows|                 Git|Code editor;Comma...|             aniruddh|                 aniruddh|          Jira Work Managem...|          Jira Work Managem...|                   Slack;Zoom|                   Slack;Zoom|Very unfavorable|Collectives on St...|Daily or almost d...|                 Yes|A few times per week|Yes, definitely|   35-44 years old|                 Man|                  No|Straight / Hetero...|               White|   None of the above|   None of the above|     No|                  NA|     NA|                  NA|                  NA|                  NA|                  NA|                  NA|                  NA|                  NA|              NA|              NA|              NA|                  NA|                  NA|            NA|                  NA|         NA|         NA|         NA|Appropriate in le...|                Easy|              215232|\n",
      "|         5|I am a developer ...| Employed, full-time|Hybrid (some remo...|               Hobby|Bachelor’s degree...|Other online reso...|Technical documen...|                  NA|        8|           3|Developer, front-...|  20 to 99 employees|I have some influ...|Start a free tria...|United States of ...|USD\\tUnited State...|       NA|      NA|  C#;HTML/CSS;JavaS...|  C#;Elixir;F#;Go;J...|  Cloud Firestore;E...|  Cloud Firestore;E...|  Firebase;Microsof...|  Firebase;Microsof...|  Angular;ASP.NET;A...|  Angular;ASP.NET C...|                  .NET|     .NET;Apache Kafka|                    npm|      Docker;Kubernetes|        Notepad++;Visual ...|        Rider;Visual Stud...|              Windows|       macOS;Windows|Git;Other (please...|         Code editor|             aniruddh|                 aniruddh|                            NA|                            NA|         Microsoft Teams;Zoom|                           NA|     Unfavorable|Collectives on St...|Multiple times pe...|                 Yes|Daily or almost d...|Yes, definitely|   25-34 years old|                  NA|                  NA|                  NA|                  NA|                  NA|                  NA|     No|                  NA|     NA|                  NA|                  NA|                  NA|                  NA|                  NA|                  NA|                  NA|              NA|              NA|              NA|                  NA|                  NA|            NA|                  NA|         NA|         NA|         NA|            Too long|                Easy|                  NA|\n",
      "|         6|I am not primaril...|  Student, full-time|                  NA|                  NA|Master’s degree (...|Books / Physical ...|                  NA|                  NA|       15|          NA|                  NA|                  NA|                  NA|Other (please spe...|             Germany|                  NA|       NA|      NA|               C++;Lua|                   Lua|                    NA|                    NA|                    NA|                    NA|                    NA|                    NA|                    NA|                    NA|               Homebrew|               Homebrew|        Visual Studio Cod...|          Visual Studio Code|    Linux-based;macOS|               macOS|                 Git|Command-line;Vers...|             aniruddh|                 aniruddh|                    Confluence|                            NA|         Rocketchat;Slack;...|         Rocketchat;Slack;...|Very unfavorable|Stack Overflow;St...|Multiple times pe...|                 Yes|Multiple times pe...|Yes, definitely|   25-34 years old|Or, in your own w...|Or, in your own w...|Prefer to self-de...|Or, in your own w...|Or, in your own w...|Or, in your own w...|     NA|                  NA|     NA|                  NA|                  NA|                  NA|                  NA|                  NA|                  NA|                  NA|              NA|              NA|              NA|                  NA|                  NA|            NA|                  NA|         NA|         NA|         NA|Appropriate in le...|                Easy|                  NA|\n",
      "|         7|I code primarily ...|  Student, part-time|                  NA|                  NA|Secondary school ...|Other online reso...|Stack Overflow;Vi...|                  NA|        3|          NA|                  NA|                  NA|                  NA|Start a free tria...|               India|                  NA|       NA|      NA|  C++;HTML/CSS;Java...|  C;C#;C++;Elixir;G...|  Cloud Firestore;M...|  MySQL;Oracle;Post...|                    NA|                    NA|  Angular;Next.js;N...|  Django;Flask;Gats...|                    NA|                    NA|           Homebrew;npm|                    npm|        Atom;IntelliJ;Not...|        Visual Studio Cod...|                macOS|               macOS|                 Git|Code editor;Comma...|             aniruddh|                 aniruddh|                            NA|                            NA|         Google Chat;Micro...|         Google Chat;Slack...|       Favorable|      Stack Overflow|Multiple times pe...|                 Yes|Daily or almost d...|Yes, definitely|Under 18 years old|                 Man|                  No|                  NA|              Indian|   None of the above|   None of the above|     NA|                  NA|     NA|                  NA|                  NA|                  NA|                  NA|                  NA|                  NA|                  NA|              NA|              NA|              NA|                  NA|                  NA|            NA|                  NA|         NA|         NA|         NA|Appropriate in le...|                Easy|                  NA|\n",
      "|         8|I am a developer ...|Not employed, but...|                  NA|                  NA|Some college/univ...|Online Courses or...|                  NA|      Coursera;Udemy|        1|          NA|Developer, full-s...|                  NA|                  NA|  Start a free trial|               India|                  NA|       NA|      NA|  C;C++;HTML/CSS;Ja...|  APL;Bash/Shell;Go...|         MongoDB;MySQL|      Neo4j;PostgreSQL|  AWS;Google Cloud;...|  DigitalOcean;Fire...|        jQuery;Node.js|  Angular;Angular.j...|                    NA|                    NA|                    npm|          Unity 3D;Yarn|        Atom;CLion;Eclips...|        Android Studio;IP...|    Linux-based;macOS|             Windows|                 Git|        Command-line|             aniruddh|                 aniruddh|                            NA|                            NA|         Google Chat;Micro...|                           NA|  Very favorable|Collectives on St...|A few times per week|                 Yes|I have never part...|Yes, definitely|   18-24 years old|                 Man|                  No|Straight / Hetero...|              Indian|   None of the above|   None of the above|     NA|                  NA|     NA|                  NA|                  NA|                  NA|                  NA|                  NA|                  NA|                  NA|              NA|              NA|              NA|                  NA|                  NA|            NA|                  NA|         NA|         NA|         NA|Appropriate in le...|                Easy|                  NA|\n",
      "|         9|I am a developer ...| Employed, full-time|Hybrid (some remo...|I don’t code outs...|Master’s degree (...|On the job traini...|                  NA|                  NA|        6|           6| Developer, back-end|        I don’t know|I have little or ...|                  NA|         Netherlands|   EUR European Euro|    46000|  Yearly|                    NA|                    NA|                    NA|                    NA|                    NA|                    NA|                    NA|                    NA|                    NA|                    NA|                     NA|                     NA|             Emacs;Notepad++|             Emacs;Notepad++|              Windows|             Windows|                 Git|Command-line;Dedi...|             aniruddh|                 aniruddh|          Confluence;Jira W...|          Confluence;Jira W...|              Microsoft Teams|              Microsoft Teams|Very unfavorable|Stack Overflow fo...|A few times per m...|                 Yes|Less than once pe...| No, not at all|   25-34 years old|               Woman|                  No|Prefer to self-de...|            European|Or, in your own w...|Or, in your own w...|    Yes|Independent contr...|      6|               Agree|            Disagree|               Agree|               Agree|               Agree|               Agree|            Disagree|3-5 times a week|3-5 times a week|           Never| 15-30 minutes a day|Over 120 minutes ...| Somewhat long|Innersource initi...|        Yes|        Yes|        Yes|Appropriate in le...|                Easy|               49056|\n",
      "|        10|I am a developer ...|Independent contr...|        Fully remote|Hobby;Contribute ...|Some college/univ...|Books / Physical ...|Technical documen...|                  NA|       37|          30|Developer, deskto...|Just me - I am a ...|I have a great de...|Start a free tria...|             Croatia|  HRK\\tCroatian kuna|       NA|      NA|     Delphi;Java;Swift|     Delphi;Java;Swift|                    NA|                    NA|  DigitalOcean;Fire...|  DigitalOcean;Fire...|                    NA|                    NA|                    NA|                    NA|                     NA|                     NA|        Android Studio;RA...|        Android Studio;RA...|              Windows|             Windows|                 Git|Version control h...|             aniruddh|                 aniruddh|                            NA|                            NA|            Google Chat;Slack|            Google Chat;Slack|Very unfavorable|Collectives on St...|Multiple times pe...|                 Yes|Multiple times pe...|Yes, definitely|   45-54 years old|               Woman|                  No|Straight / Hetero...|      White;European|   None of the above|   None of the above|     NA|                  NA|     NA|                  NA|                  NA|                  NA|                  NA|                  NA|                  NA|                  NA|              NA|              NA|              NA|                  NA|                  NA|            NA|                  NA|         NA|         NA|         NA|Appropriate in le...|                Easy|                  NA|\n",
      "|        11|I am a developer ...| Employed, full-time|Hybrid (some remo...|I don’t code outs...|Bachelor’s degree...|Books / Physical ...|Technical documen...|                  NA|        5|           2|Developer, full-s...|100 to 499 employees|I have little or ...|Start a free tria...|United Kingdom of...| GBP\\tPound sterling|    48000|  Yearly|  Bash/Shell;C#;HTM...|      C#;Go;JavaScript|  Microsoft SQL Server|  Microsoft SQL Server|   AWS;Microsoft Azure|       Microsoft Azure|  ASP.NET;ASP.NET C...|  ASP.NET;ASP.NET C...|                  .NET|                    NA|   Docker;npm;Terraform|       Docker;Terraform|        Rider;Visual Stud...|        Rider;Visual Stud...| Windows;Windows S...|         Linux-based|                 Git|Code editor;Comma...|             aniruddh|                 aniruddh|                    Confluence|                            NA|         Google Chat;Micro...|            Google Chat;Slack|     Unfavorable|Stack Overflow;St...|A few times per m...|                 Yes|Less than once pe...| No, not really|   18-24 years old|                 Man|                  No|Straight / Hetero...|            European|   None of the above|   None of the above|     No|                  NA|     NA|                  NA|                  NA|                  NA|                  NA|                  NA|                  NA|                  NA|              NA|              NA|              NA|                  NA|                  NA|            NA|                  NA|         NA|         NA|         NA|Appropriate in le...|                Easy|               60307|\n",
      "|        12|I am not primaril...|Employed, full-ti...|        Fully remote|Hobby;Contribute ...|Bachelor’s degree...|Other online reso...|Technical documen...|                  NA|       12|          10| Engineering manager|  20 to 99 employees|I have some influ...|Start a free tria...|United States of ...|USD\\tUnited State...|   194400|  Yearly|  C#;HTML/CSS;JavaS...|  C++;Go;HTML/CSS;J...|  Couchbase;CouchDB...|  Elasticsearch;Mon...|   AWS;Microsoft Azure|  AWS;DigitalOcean;...|  ASP.NET;ASP.NET C...|  ASP.NET Core ;Nod...|  .NET;Keras;NumPy;...|  Keras;NumPy;Panda...|   Docker;Homebrew;K...|   Docker;Homebrew;K...|        IPython/Jupyter;N...|        IPython/Jupyter;N...| Linux-based;macOS...|   Linux-based;macOS|                 Git|Code editor;Dedic...|             aniruddh|                 aniruddh|          Confluence;Jira W...|                 Notion;Trello|         Cisco Webex Teams...|                        Slack|     Unfavorable|Stack Overflow;St...|Daily or almost d...|                 Yes|A few times per m...|  Yes, somewhat|   35-44 years old|                 Man|                  No|Straight / Hetero...|               White|   None of the above|I have a mood or ...|    Yes|      People manager|     14|      Strongly agree|               Agree|            Disagree|               Agree|               Agree|               Agree|               Agree|10+ times a week|10+ times a week|3-5 times a week| 30-60 minutes a day|60-120 minutes a day|    Just right|Innersource initi...|        Yes|        Yes|         No|           Too short|                Easy|              194400|\n",
      "|        13|I am a developer ...| Employed, full-time|Hybrid (some remo...|               Hobby|Bachelor’s degree...|School (i.e., Uni...|                  NA|                  NA|       12|           5|Developer, full-s...|    2 to 9 employees|I have a great de...|Visit developer c...|United States of ...|USD\\tUnited State...|    65000|  Yearly|  C;HTML/CSS;Rust;S...|  Haskell;HTML/CSS;...|            PostgreSQL|   Elasticsearch;Redis|                   AWS|                   AWS|              React.js|              React.js|         Torch/PyTorch|         Torch/PyTorch|                 Docker|                 Docker|           Vim;Visual Studio|           Vim;Visual Studio|                macOS|         Linux-based|                 Git|Code editor;Comma...|             aniruddh|                 aniruddh|          Jira Work Managem...|          Jira Work Managem...|         Microsoft Teams;S...|         Microsoft Teams;S...|       Favorable|Stack Overflow;St...|Daily or almost d...|Not sure/can't re...|                  NA|        Neutral|   25-34 years old|                 Man|                  No|Straight / Hetero...|               White|   None of the above|   None of the above|    Yes|Independent contr...|      5|Neither agree nor...|            Disagree|      Strongly agree|      Strongly agree|      Strongly agree|               Agree|            Disagree|           Never|           Never|           Never| 30-60 minutes a day|Less than 15 minu...|Somewhat short|DevOps function;M...|        Yes|         No|        Yes|Appropriate in le...|                Easy|               65000|\n",
      "|        14|I am a developer ...| Employed, part-time|        Fully remote|               Hobby|Bachelor’s degree...|Books / Physical ...|                  NA|                  NA|       22|          15|Developer, front-...|  20 to 99 employees|I have some influ...|Start a free tria...|           Australia|AUD\\tAustralian d...|       NA|      NA|  Elixir;Erlang;HTM...|  Elixir;Erlang;HTM...|   DynamoDB;PostgreSQL|            PostgreSQL|            AWS;Heroku|                    NA|  jQuery;Next.js;No...|  Phoenix;React.js;...|                    NA|                    NA|   Docker;Homebrew;n...|            Docker;Yarn|          Visual Studio Code|          Visual Studio Code|                macOS|               macOS|                 Git|        Command-line|             aniruddh|                 aniruddh|          Airtable;Confluen...|                        Notion|         Microsoft Teams;S...|                   Slack;Zoom|Very unfavorable|Stack Overflow;St...|Multiple times pe...|                 Yes|Daily or almost d...|Yes, definitely|   35-44 years old|               Woman|                  No|Straight / Hetero...|               White|   None of the above|I have a mood or ...|    Yes|Independent contr...|     15|               Agree|               Agree|Neither agree nor...|Neither agree nor...|Neither agree nor...|               Agree|               Agree|1-2 times a week|10+ times a week|1-2 times a week|60-120 minutes a day| 30-60 minutes a day|    Very short|Continuous integr...|         No|         No|         No|           Too short|                Easy|                  NA|\n",
      "|        15|I am a developer ...|Employed, full-ti...|        Fully remote|Hobby;Freelance/c...|Master’s degree (...|Other online reso...|Written Tutorials...|                  NA|       11|           5|Developer, full-s...|5,000 to 9,999 em...|I have little or ...|Start a free tria...|United States of ...|USD\\tUnited State...|   110000|  Yearly|  HTML/CSS;JavaScri...|  HTML/CSS;JavaScri...|  Elasticsearch;Mon...|  Elasticsearch;Mon...|  AWS;DigitalOcean;...|                   AWS|  Django;Flask;jQue...|  Django;FastAPI;Re...|  Apache Kafka;Apac...|                Pandas|        Docker;npm;Yarn|        Docker;npm;Yarn|        IPython/Jupyter;N...|          Visual Studio Code|                macOS|               macOS|                 Git|Code editor;Comma...|             aniruddh|                 aniruddh|          Asana;Jira Work M...|          Asana;Jira Work M...|         Microsoft Teams;S...|                   Slack;Zoom|     Indifferent|Stack Overflow;St...|Daily or almost d...|                 Yes|Less than once pe...|  Yes, somewhat|   25-34 years old|                 Man|                  No|Straight / Hetero...|               White|   None of the above|   None of the above|    Yes|Independent contr...|      5|               Agree|Neither agree nor...|Neither agree nor...|Neither agree nor...|Neither agree nor...|Neither agree nor...|Neither agree nor...|1-2 times a week|3-5 times a week|1-2 times a week| 30-60 minutes a day| 30-60 minutes a day| Somewhat long|DevOps function;C...|         No|        Yes|        Yes|Appropriate in le...|                Easy|              110000|\n",
      "|        16|I am a developer ...|Independent contr...|        Fully remote|Hobby;Contribute ...|Bachelor’s degree...|Books / Physical ...|                  NA|                  NA|        4|           4|Developer, full-s...|Just me - I am a ...|I have a great de...|  Start a free trial|  Russian Federation|  RUB\\tRussian ruble|       NA|  Weekly|  Bash/Shell;HTML/C...|  Bash/Shell;HTML/C...|  Cloud Firestore;M...|  Cloud Firestore;M...|  AWS;Firebase;Goog...|  AWS;Firebase;Goog...|  Express;jQuery;No...|  Express;Node.js;V...|                    NA|                    NA|                    npm|                    npm|        Notepad++;Visual ...|          Visual Studio Code|              Windows|             Windows|                 Git|Code editor;Comma...|             aniruddh|                 aniruddh|                        Trello|                        Trello|                           NA|                           NA|     Unfavorable|Stack Overflow;St...|Multiple times pe...|                 Yes|Multiple times pe...|Yes, definitely|   25-34 years old|                 Man|                  No|Straight / Hetero...|                  NA|   None of the above|                  NA|     NA|                  NA|     NA|                  NA|                  NA|                  NA|                  NA|                  NA|                  NA|                  NA|              NA|              NA|              NA|                  NA|                  NA|            NA|                  NA|         NA|         NA|         NA|                  NA|Neither easy nor ...|                  NA|\n",
      "|        17|I am a developer ...| Employed, full-time|Hybrid (some remo...|               Hobby|Bachelor’s degree...|Books / Physical ...|Technical documen...|    Udemy;Codecademy|        7|           4|Developer, full-s...|    2 to 9 employees|I have some influ...|Start a free tria...|      Czech Republic|   CZK\\tCzech koruna|    37000| Monthly|  C#;Java;PHP;Python;R|  JavaScript;Kotlin...|   Elasticsearch;MySQL|  MariaDB;MongoDB;M...|   Google Cloud;VMware|                   AWS|  Angular;Laravel;N...|  Angular;Next.js;N...|  Electron;React Na...|              Electron|             Docker;npm|             Docker;npm|        IntelliJ;Notepad+...|          IntelliJ;Notepad++|              Windows|             Windows|                 Git|Command-line;Dedi...|             aniruddh|                 aniruddh|          Jira Work Managem...|          Jira Work Management|         Microsoft Teams;S...|         Microsoft Teams;S...|     Unfavorable|Stack Overflow;St...|Daily or almost d...|                 Yes|A few times per m...|        Neutral|   25-34 years old|                 Man|                  No|            Bisexual|            European|   None of the above|I have a mood or ...|     No|                  NA|     NA|                  NA|                  NA|                  NA|                  NA|                  NA|                  NA|                  NA|              NA|              NA|              NA|                  NA|                  NA|            NA|                  NA|         NA|         NA|         NA|Appropriate in le...|Neither easy nor ...|               19224|\n",
      "|        18|I am a developer ...| Employed, full-time|        Fully remote|               Hobby|Master’s degree (...|Other online reso...|Technical documen...|Coursera;Pluralsight|       13|          10|      Engineer, data|1,000 to 4,999 em...|I have some influ...|Start a free tria...|             Austria|   EUR European Euro|   190000|  Yearly|            Python;SQL|            Python;SQL|  Cassandra;PostgreSQL|  Cassandra;PostgreSQL|      AWS;Google Cloud|      AWS;Google Cloud|                    NA|                    NA|                    NA|                    NA|   Docker;Homebrew;K...|   Docker;Homebrew;K...|          Visual Studio Code|        PyCharm;Visual St...|                macOS|Windows;Windows S...|                 Git|        Command-line|             aniruddh|                 aniruddh|                            NA|                            NA|                   Slack;Zoom|                   Slack;Zoom|     Indifferent|Stack Overflow fo...|Daily or almost d...|                 Yes|Less than once pe...|Yes, definitely|   25-34 years old|               Woman|                  No|Straight / Hetero...|            European|   None of the above|   None of the above|     No|                  NA|     NA|                  NA|                  NA|                  NA|                  NA|                  NA|                  NA|                  NA|              NA|              NA|              NA|                  NA|                  NA|            NA|                  NA|         NA|         NA|         NA|Appropriate in le...|                Easy|              202623|\n",
      "|        19|I am a developer ...| Employed, full-time|Hybrid (some remo...|               Hobby|Secondary school ...|Books / Physical ...|                  NA|                  NA|       36|          22|Developer, back-e...|100 to 499 employees|I have little or ...|Start a free tria...|             Austria|   EUR European Euro|     4000| Monthly|     C#;PowerShell;SQL|  C#;F#;PowerShell;SQL|  Microsoft SQL Server|  Microsoft SQL Server|                    NA|                    NA|                    NA|                    NA|                  .NET|                  .NET|                     NA|                     NA|        Visual Studio;Vis...|        Visual Studio;Vis...|              Windows|             Windows|       Mercurial;SVN|Code editor;Comma...|             aniruddh|                 aniruddh|                            NA|                            NA|         Microsoft Teams;Zoom|              Microsoft Teams|          Unsure|Stack Overflow;St...|Multiple times pe...|                 Yes|Daily or almost d...|Yes, definitely|   45-54 years old|                 Man|                  No|Straight / Hetero...|      White;European|   None of the above|   None of the above|     No|                  NA|     NA|                  NA|                  NA|                  NA|                  NA|                  NA|                  NA|                  NA|              NA|              NA|              NA|                  NA|                  NA|            NA|                  NA|         NA|         NA|         NA|Appropriate in le...|                Easy|               51192|\n",
      "|        20|I am learning to ...|  Student, full-time|                  NA|                  NA|Some college/univ...|Books / Physical ...|                  NA|                  NA|        2|          NA|                  NA|                  NA|                  NA|Visit developer c...|              Serbia|                  NA|       NA|      NA|  C++;HTML/CSS;Java...|   HTML/CSS;Python;SQL|                 MySQL|                 MySQL|                    NA|                    NA|                    NA|                    NA|  Keras;NumPy;Panda...|  Keras;NumPy;Panda...|                     NA|                     NA|        IntelliJ;Visual S...|          Visual Studio Code|  Linux-based;Windows| Linux-based;Windows|                 Git|Code editor;Comma...|             aniruddh|                 aniruddh|                            NA|                            NA|                           NA|                           NA|     Indifferent|      Stack Overflow|Daily or almost d...|                  No|                  NA| No, not really|   18-24 years old|                 Man|                  No|                  NA|               White|                  NA|                  NA|     NA|                  NA|     NA|                  NA|                  NA|                  NA|                  NA|                  NA|                  NA|                  NA|              NA|              NA|              NA|                  NA|                  NA|            NA|                  NA|         NA|         NA|         NA|Appropriate in le...|                Easy|                  NA|\n",
      "+----------+--------------------+--------------------+--------------------+--------------------+--------------------+--------------------+--------------------+--------------------+---------+------------+--------------------+--------------------+--------------------+--------------------+--------------------+--------------------+---------+--------+----------------------+----------------------+----------------------+----------------------+----------------------+----------------------+----------------------+----------------------+----------------------+----------------------+-----------------------+-----------------------+----------------------------+----------------------------+---------------------+--------------------+--------------------+--------------------+---------------------+-------------------------+------------------------------+------------------------------+-----------------------------+-----------------------------+----------------+--------------------+--------------------+--------------------+--------------------+---------------+------------------+--------------------+--------------------+--------------------+--------------------+--------------------+--------------------+-------+--------------------+-------+--------------------+--------------------+--------------------+--------------------+--------------------+--------------------+--------------------+----------------+----------------+----------------+--------------------+--------------------+--------------+--------------------+-----------+-----------+-----------+--------------------+--------------------+--------------------+\n",
      "only showing top 20 rows\n",
      "\n"
     ]
    }
   ],
   "source": [
    "df.na.fill('aniruddh').show()"
   ]
  },
  {
   "cell_type": "code",
   "execution_count": 64,
   "id": "06d92348",
   "metadata": {},
   "outputs": [
    {
     "name": "stdout",
     "output_type": "stream",
     "text": [
      "+--------------------+\n",
      "|           Sexuality|\n",
      "+--------------------+\n",
      "|                  NA|\n",
      "|                  NA|\n",
      "|            Bisexual|\n",
      "|Straight / Hetero...|\n",
      "|                  NA|\n",
      "|Prefer to self-de...|\n",
      "|                  NA|\n",
      "|Straight / Hetero...|\n",
      "|Prefer to self-de...|\n",
      "|Straight / Hetero...|\n",
      "|Straight / Hetero...|\n",
      "|Straight / Hetero...|\n",
      "|Straight / Hetero...|\n",
      "|Straight / Hetero...|\n",
      "|Straight / Hetero...|\n",
      "|Straight / Hetero...|\n",
      "|            Bisexual|\n",
      "|Straight / Hetero...|\n",
      "|Straight / Hetero...|\n",
      "|                  NA|\n",
      "+--------------------+\n",
      "only showing top 20 rows\n",
      "\n"
     ]
    }
   ],
   "source": [
    "df.select('Sexuality').show()"
   ]
  },
  {
   "cell_type": "code",
   "execution_count": 66,
   "id": "c452ac8a",
   "metadata": {},
   "outputs": [
    {
     "data": {
      "text/plain": [
       "73268"
      ]
     },
     "execution_count": 66,
     "metadata": {},
     "output_type": "execute_result"
    }
   ],
   "source": [
    "df.na.drop(how='any',subset=['Sexuality']).count()"
   ]
  },
  {
   "cell_type": "code",
   "execution_count": 68,
   "id": "e062f19a",
   "metadata": {},
   "outputs": [],
   "source": [
    "df1 = spark.read.option('inferSchema','true').option('header','true').csv('test2.csv')"
   ]
  },
  {
   "cell_type": "code",
   "execution_count": 69,
   "id": "10b865c8",
   "metadata": {},
   "outputs": [
    {
     "name": "stdout",
     "output_type": "stream",
     "text": [
      "+---------+----+----------+------+\n",
      "|     Name| age|Experience|Salary|\n",
      "+---------+----+----------+------+\n",
      "|    Krish|  31|        10| 30000|\n",
      "|Sudhanshu|  30|         8| 25000|\n",
      "|    Sunny|  29|         4| 20000|\n",
      "|     Paul|  24|         3| 20000|\n",
      "|   Harsha|  21|         1| 15000|\n",
      "|  Shubham|  23|         2| 18000|\n",
      "|   Mahesh|null|      null| 40000|\n",
      "|     null|  34|        10| 38000|\n",
      "|     null|  36|      null|  null|\n",
      "+---------+----+----------+------+\n",
      "\n"
     ]
    }
   ],
   "source": [
    "df1.show()"
   ]
  },
  {
   "cell_type": "code",
   "execution_count": 72,
   "id": "5e8383c0",
   "metadata": {},
   "outputs": [
    {
     "data": {
      "text/plain": [
       "6"
      ]
     },
     "execution_count": 72,
     "metadata": {},
     "output_type": "execute_result"
    }
   ],
   "source": [
    "df1.na.drop(how='any',subset=['Experience','Name']).count()"
   ]
  },
  {
   "cell_type": "code",
   "execution_count": 73,
   "id": "0aaf500f",
   "metadata": {},
   "outputs": [],
   "source": [
    "from pyspark.ml.feature import Imputer"
   ]
  },
  {
   "cell_type": "code",
   "execution_count": 74,
   "id": "4b3b8374",
   "metadata": {},
   "outputs": [],
   "source": [
    "imputer = Imputer(\n",
    "    inputCols=['age'], \n",
    "    outputCols=[\"{}_imputed\".format(c) for c in ['age']]\n",
    "    ).setStrategy(\"median\")\n"
   ]
  },
  {
   "cell_type": "code",
   "execution_count": 76,
   "id": "817c9d33",
   "metadata": {},
   "outputs": [
    {
     "name": "stdout",
     "output_type": "stream",
     "text": [
      "+---------+----+----------+------+-----------+\n",
      "|     Name| age|Experience|Salary|age_imputed|\n",
      "+---------+----+----------+------+-----------+\n",
      "|    Krish|  31|        10| 30000|         31|\n",
      "|Sudhanshu|  30|         8| 25000|         30|\n",
      "|    Sunny|  29|         4| 20000|         29|\n",
      "|     Paul|  24|         3| 20000|         24|\n",
      "|   Harsha|  21|         1| 15000|         21|\n",
      "|  Shubham|  23|         2| 18000|         23|\n",
      "|   Mahesh|null|      null| 40000|         29|\n",
      "|     null|  34|        10| 38000|         34|\n",
      "|     null|  36|      null|  null|         36|\n",
      "+---------+----+----------+------+-----------+\n",
      "\n"
     ]
    }
   ],
   "source": [
    "imputer.fit(df1).transform(df1).show()"
   ]
  },
  {
   "cell_type": "code",
   "execution_count": 85,
   "id": "cabca0e7",
   "metadata": {},
   "outputs": [
    {
     "name": "stdout",
     "output_type": "stream",
     "text": [
      "+-----+---+----------+------+\n",
      "| Name|age|Experience|Salary|\n",
      "+-----+---+----------+------+\n",
      "|Krish| 31|        10| 30000|\n",
      "+-----+---+----------+------+\n",
      "\n"
     ]
    }
   ],
   "source": [
    "from pyspark.sql.functions import *\n",
    "df1.filter(col('age')==31).show()"
   ]
  },
  {
   "cell_type": "code",
   "execution_count": 88,
   "id": "56994b69",
   "metadata": {},
   "outputs": [
    {
     "name": "stdout",
     "output_type": "stream",
     "text": [
      "+-------+---+----------+------+\n",
      "|   Name|age|Experience|Salary|\n",
      "+-------+---+----------+------+\n",
      "|  Sunny| 29|         4| 20000|\n",
      "|   Paul| 24|         3| 20000|\n",
      "| Harsha| 21|         1| 15000|\n",
      "|Shubham| 23|         2| 18000|\n",
      "+-------+---+----------+------+\n",
      "\n"
     ]
    }
   ],
   "source": [
    "df1.filter('salary<=20000').show()"
   ]
  },
  {
   "cell_type": "code",
   "execution_count": 98,
   "id": "47b55332",
   "metadata": {},
   "outputs": [
    {
     "name": "stdout",
     "output_type": "stream",
     "text": [
      "+---------+---+----------+------+\n",
      "|     Name|age|Experience|Salary|\n",
      "+---------+---+----------+------+\n",
      "|Sudhanshu| 30|         8| 25000|\n",
      "+---------+---+----------+------+\n",
      "\n"
     ]
    }
   ],
   "source": [
    "df1.filter((col('salary')>20000) & (col('age')<=30)).show()"
   ]
  },
  {
   "cell_type": "markdown",
   "id": "87ae783e",
   "metadata": {},
   "source": [
    "### PySpark when() is SQL function, in order to use this first you should import and this returns a Column type, otherwise() is a function of Column, when otherwise() not used and none of the conditions met it assigns None (Null) value. Usage would be like when(condition).otherwise(default)."
   ]
  },
  {
   "cell_type": "code",
   "execution_count": 108,
   "id": "0e791227",
   "metadata": {},
   "outputs": [],
   "source": [
    "#when\n",
    "df1 = df1.withColumn('test',when(col('age')==30,df1['age']+10).otherwise(0))"
   ]
  },
  {
   "cell_type": "code",
   "execution_count": 109,
   "id": "86fc5cf1",
   "metadata": {},
   "outputs": [
    {
     "name": "stdout",
     "output_type": "stream",
     "text": [
      "+---------+----+----------+------+----+\n",
      "|     Name| age|Experience|Salary|test|\n",
      "+---------+----+----------+------+----+\n",
      "|    Krish|  31|        10| 30000|   0|\n",
      "|Sudhanshu|  30|         8| 25000|  40|\n",
      "|    Sunny|  29|         4| 20000|   0|\n",
      "|     Paul|  24|         3| 20000|   0|\n",
      "|   Harsha|  21|         1| 15000|   0|\n",
      "|  Shubham|  23|         2| 18000|   0|\n",
      "|   Mahesh|null|      null| 40000|   0|\n",
      "|     null|  34|        10| 38000|   0|\n",
      "|     null|  36|      null|  null|   0|\n",
      "+---------+----+----------+------+----+\n",
      "\n"
     ]
    }
   ],
   "source": [
    "df1.show()"
   ]
  },
  {
   "cell_type": "markdown",
   "id": "9f12b054",
   "metadata": {},
   "source": [
    "##### When then expression -expr"
   ]
  },
  {
   "cell_type": "code",
   "execution_count": 126,
   "id": "e97a6767",
   "metadata": {},
   "outputs": [],
   "source": [
    "df1 = df1.withColumn('test1', expr('CASE WHEN Experience==null THEN AGE ELSE Experience+1 END'))"
   ]
  },
  {
   "cell_type": "code",
   "execution_count": 127,
   "id": "af5131e4",
   "metadata": {},
   "outputs": [
    {
     "name": "stdout",
     "output_type": "stream",
     "text": [
      "+---------+----+----------+------+----+-----+\n",
      "|     Name| age|Experience|Salary|test|test1|\n",
      "+---------+----+----------+------+----+-----+\n",
      "|    Krish|  31|        10| 30000|   0|   11|\n",
      "|Sudhanshu|  30|         8| 25000|  40|    9|\n",
      "|    Sunny|  29|         4| 20000|   0|    5|\n",
      "|     Paul|  24|         3| 20000|   0|    4|\n",
      "|   Harsha|  21|         1| 15000|   0|    2|\n",
      "|  Shubham|  23|         2| 18000|   0|    3|\n",
      "|   Mahesh|null|      null| 40000|   0| null|\n",
      "|     null|  34|        10| 38000|   0|   11|\n",
      "|     null|  36|      null|  null|   0| null|\n",
      "+---------+----+----------+------+----+-----+\n",
      "\n"
     ]
    }
   ],
   "source": [
    "df1.show()"
   ]
  },
  {
   "cell_type": "code",
   "execution_count": 132,
   "id": "d327f32c",
   "metadata": {},
   "outputs": [
    {
     "ename": "ParseException",
     "evalue": "\nSyntax error at or near 'Experience'(line 1, pos 23)\n\n== SQL ==\nselect Name, CASE WHEN Experience=10 THEN Experience+2 ELSE Experience=1 from temp\n-----------------------^^^\n",
     "output_type": "error",
     "traceback": [
      "\u001b[0;31m---------------------------------------------------------------------------\u001b[0m",
      "\u001b[0;31mParseException\u001b[0m                            Traceback (most recent call last)",
      "Cell \u001b[0;32mIn [132], line 2\u001b[0m\n\u001b[1;32m      1\u001b[0m df1\u001b[38;5;241m.\u001b[39mcreateOrReplaceTempView(\u001b[38;5;124m'\u001b[39m\u001b[38;5;124mtemp\u001b[39m\u001b[38;5;124m'\u001b[39m)\n\u001b[0;32m----> 2\u001b[0m df2 \u001b[38;5;241m=\u001b[39m \u001b[43mspark\u001b[49m\u001b[38;5;241;43m.\u001b[39;49m\u001b[43msql\u001b[49m\u001b[43m(\u001b[49m\u001b[38;5;124;43m'\u001b[39;49m\u001b[38;5;124;43mselect Name, CASE WHEN Experience=10 THEN Experience+2 ELSE Experience=1 from temp\u001b[39;49m\u001b[38;5;124;43m'\u001b[39;49m\u001b[43m)\u001b[49m\n",
      "File \u001b[0;32m/Library/Frameworks/Python.framework/Versions/3.9/lib/python3.9/site-packages/pyspark/sql/session.py:1034\u001b[0m, in \u001b[0;36mSparkSession.sql\u001b[0;34m(self, sqlQuery, **kwargs)\u001b[0m\n\u001b[1;32m   1032\u001b[0m     sqlQuery \u001b[38;5;241m=\u001b[39m formatter\u001b[38;5;241m.\u001b[39mformat(sqlQuery, \u001b[38;5;241m*\u001b[39m\u001b[38;5;241m*\u001b[39mkwargs)\n\u001b[1;32m   1033\u001b[0m \u001b[38;5;28;01mtry\u001b[39;00m:\n\u001b[0;32m-> 1034\u001b[0m     \u001b[38;5;28;01mreturn\u001b[39;00m DataFrame(\u001b[38;5;28;43mself\u001b[39;49m\u001b[38;5;241;43m.\u001b[39;49m\u001b[43m_jsparkSession\u001b[49m\u001b[38;5;241;43m.\u001b[39;49m\u001b[43msql\u001b[49m\u001b[43m(\u001b[49m\u001b[43msqlQuery\u001b[49m\u001b[43m)\u001b[49m, \u001b[38;5;28mself\u001b[39m)\n\u001b[1;32m   1035\u001b[0m \u001b[38;5;28;01mfinally\u001b[39;00m:\n\u001b[1;32m   1036\u001b[0m     \u001b[38;5;28;01mif\u001b[39;00m \u001b[38;5;28mlen\u001b[39m(kwargs) \u001b[38;5;241m>\u001b[39m \u001b[38;5;241m0\u001b[39m:\n",
      "File \u001b[0;32m/Library/Frameworks/Python.framework/Versions/3.9/lib/python3.9/site-packages/py4j/java_gateway.py:1321\u001b[0m, in \u001b[0;36mJavaMember.__call__\u001b[0;34m(self, *args)\u001b[0m\n\u001b[1;32m   1315\u001b[0m command \u001b[38;5;241m=\u001b[39m proto\u001b[38;5;241m.\u001b[39mCALL_COMMAND_NAME \u001b[38;5;241m+\u001b[39m\\\n\u001b[1;32m   1316\u001b[0m     \u001b[38;5;28mself\u001b[39m\u001b[38;5;241m.\u001b[39mcommand_header \u001b[38;5;241m+\u001b[39m\\\n\u001b[1;32m   1317\u001b[0m     args_command \u001b[38;5;241m+\u001b[39m\\\n\u001b[1;32m   1318\u001b[0m     proto\u001b[38;5;241m.\u001b[39mEND_COMMAND_PART\n\u001b[1;32m   1320\u001b[0m answer \u001b[38;5;241m=\u001b[39m \u001b[38;5;28mself\u001b[39m\u001b[38;5;241m.\u001b[39mgateway_client\u001b[38;5;241m.\u001b[39msend_command(command)\n\u001b[0;32m-> 1321\u001b[0m return_value \u001b[38;5;241m=\u001b[39m \u001b[43mget_return_value\u001b[49m\u001b[43m(\u001b[49m\n\u001b[1;32m   1322\u001b[0m \u001b[43m    \u001b[49m\u001b[43manswer\u001b[49m\u001b[43m,\u001b[49m\u001b[43m \u001b[49m\u001b[38;5;28;43mself\u001b[39;49m\u001b[38;5;241;43m.\u001b[39;49m\u001b[43mgateway_client\u001b[49m\u001b[43m,\u001b[49m\u001b[43m \u001b[49m\u001b[38;5;28;43mself\u001b[39;49m\u001b[38;5;241;43m.\u001b[39;49m\u001b[43mtarget_id\u001b[49m\u001b[43m,\u001b[49m\u001b[43m \u001b[49m\u001b[38;5;28;43mself\u001b[39;49m\u001b[38;5;241;43m.\u001b[39;49m\u001b[43mname\u001b[49m\u001b[43m)\u001b[49m\n\u001b[1;32m   1324\u001b[0m \u001b[38;5;28;01mfor\u001b[39;00m temp_arg \u001b[38;5;129;01min\u001b[39;00m temp_args:\n\u001b[1;32m   1325\u001b[0m     temp_arg\u001b[38;5;241m.\u001b[39m_detach()\n",
      "File \u001b[0;32m/Library/Frameworks/Python.framework/Versions/3.9/lib/python3.9/site-packages/pyspark/sql/utils.py:196\u001b[0m, in \u001b[0;36mcapture_sql_exception.<locals>.deco\u001b[0;34m(*a, **kw)\u001b[0m\n\u001b[1;32m    192\u001b[0m converted \u001b[38;5;241m=\u001b[39m convert_exception(e\u001b[38;5;241m.\u001b[39mjava_exception)\n\u001b[1;32m    193\u001b[0m \u001b[38;5;28;01mif\u001b[39;00m \u001b[38;5;129;01mnot\u001b[39;00m \u001b[38;5;28misinstance\u001b[39m(converted, UnknownException):\n\u001b[1;32m    194\u001b[0m     \u001b[38;5;66;03m# Hide where the exception came from that shows a non-Pythonic\u001b[39;00m\n\u001b[1;32m    195\u001b[0m     \u001b[38;5;66;03m# JVM exception message.\u001b[39;00m\n\u001b[0;32m--> 196\u001b[0m     \u001b[38;5;28;01mraise\u001b[39;00m converted \u001b[38;5;28;01mfrom\u001b[39;00m \u001b[38;5;28mNone\u001b[39m\n\u001b[1;32m    197\u001b[0m \u001b[38;5;28;01melse\u001b[39;00m:\n\u001b[1;32m    198\u001b[0m     \u001b[38;5;28;01mraise\u001b[39;00m\n",
      "\u001b[0;31mParseException\u001b[0m: \nSyntax error at or near 'Experience'(line 1, pos 23)\n\n== SQL ==\nselect Name, CASE WHEN Experience=10 THEN Experience+2 ELSE Experience=1 from temp\n-----------------------^^^\n"
     ]
    }
   ],
   "source": [
    "df1.createOrReplaceTempView('temp')\n",
    "df2 = spark.sql('select Name, CASE WHEN Experience=10 THEN Experience+2 ELSE Experience=1 from temp')"
   ]
  },
  {
   "cell_type": "code",
   "execution_count": null,
   "id": "5dd31146",
   "metadata": {},
   "outputs": [],
   "source": []
  }
 ],
 "metadata": {
  "kernelspec": {
   "display_name": "Python 3 (ipykernel)",
   "language": "python",
   "name": "python3"
  },
  "language_info": {
   "codemirror_mode": {
    "name": "ipython",
    "version": 3
   },
   "file_extension": ".py",
   "mimetype": "text/x-python",
   "name": "python",
   "nbconvert_exporter": "python",
   "pygments_lexer": "ipython3",
   "version": "3.9.7"
  }
 },
 "nbformat": 4,
 "nbformat_minor": 5
}
